{
 "cells": [
  {
   "cell_type": "code",
   "execution_count": 1,
   "metadata": {},
   "outputs": [],
   "source": [
    "import pandas as pd\n",
    "import numpy as np\n",
    "import matplotlib.pyplot as plt\n",
    "import matplotlib.patches as patches\n",
    "import matplotlib.lines as mlines\n",
    "import os\n",
    "import itertools\n",
    "\n",
    "from multiprocessing import Pool"
   ]
  },
  {
   "cell_type": "code",
   "execution_count": 2,
   "metadata": {},
   "outputs": [],
   "source": [
    "%run config.py\n",
    "%run shared.py"
   ]
  },
  {
   "cell_type": "code",
   "execution_count": 3,
   "metadata": {},
   "outputs": [],
   "source": [
    "valid = pd.read_pickle(PATH_VALID_DEVICES)"
   ]
  },
  {
   "cell_type": "markdown",
   "metadata": {},
   "source": [
    "# Non-clearable notifications"
   ]
  },
  {
   "cell_type": "markdown",
   "metadata": {},
   "source": [
    "## Number and percentage of snapshots with non-clearable notifications"
   ]
  },
  {
   "cell_type": "markdown",
   "metadata": {},
   "source": [
    "**RQ:** How many snapshots do contain a non-clearable notifications?"
   ]
  },
  {
   "cell_type": "code",
   "execution_count": 4,
   "metadata": {},
   "outputs": [],
   "source": [
    "def contains_non_clearable(lst):\n",
    "    for n in lst:\n",
    "        if not n['isClearable']:\n",
    "            return True\n",
    "    return False\n",
    "\n",
    "def worker_sticky_snapshots(uuid):\n",
    "    df = pd.read_pickle('%s%s.pkl.gz' % (PATH_DEVICES_DIR, uuid), compression='gzip')\n",
    "    df['HasNonClearable'] = df.Active.apply(contains_non_clearable)           \n",
    "    return len(df[df.HasNonClearable])"
   ]
  },
  {
   "cell_type": "code",
   "execution_count": 5,
   "metadata": {},
   "outputs": [],
   "source": [
    "uuids = valid.UUID.tolist()\n",
    "\n",
    "p = Pool(NUM_CORES)\n",
    "nc_list = p.map(worker_sticky_snapshots, uuids)"
   ]
  },
  {
   "cell_type": "code",
   "execution_count": 6,
   "metadata": {},
   "outputs": [
    {
     "data": {
      "text/plain": [
       "3953"
      ]
     },
     "execution_count": 6,
     "metadata": {},
     "output_type": "execute_result"
    }
   ],
   "source": [
    "len(nc_list)"
   ]
  },
  {
   "cell_type": "code",
   "execution_count": 7,
   "metadata": {},
   "outputs": [
    {
     "name": "stdout",
     "output_type": "stream",
     "text": [
      "Number of snapshots with at least one non-clearable notification: 4537652\n"
     ]
    }
   ],
   "source": [
    "print('Number of snapshots with at least one non-clearable notification: %s' % np.sum(nc_list))"
   ]
  },
  {
   "cell_type": "code",
   "execution_count": 8,
   "metadata": {},
   "outputs": [
    {
     "name": "stdout",
     "output_type": "stream",
     "text": [
      "51.39% of snapshots contained at least one non-clearable notification.\n"
     ]
    }
   ],
   "source": [
    "print('%s%% of snapshots contained at least one non-clearable notification.' % np.round(np.sum(nc_list) / valid.Count.sum() * 100, 2))"
   ]
  },
  {
   "cell_type": "markdown",
   "metadata": {},
   "source": [
    "## Number of non-clearable notifications per snapshot"
   ]
  },
  {
   "cell_type": "markdown",
   "metadata": {},
   "source": [
    "**RQ:** What is the percentage of non-clearable notifications?"
   ]
  },
  {
   "cell_type": "code",
   "execution_count": 9,
   "metadata": {},
   "outputs": [],
   "source": [
    "def count_sticky(lst):\n",
    "    count = 0\n",
    "    for n in lst:\n",
    "        if not n['isClearable']:\n",
    "            count += 1\n",
    "    return count\n",
    "\n",
    "def worker_sticky(uuid):\n",
    "    df = pd.read_pickle('%s%s.pkl.gz' % (PATH_DEVICES_DIR, uuid), compression='gzip')\n",
    "    df['ActiveCount'] = df.Active.apply(len)\n",
    "    df['StickyCount'] = df.Active.apply(count_sticky)\n",
    "    df['Percentage']  = 0\n",
    "    \n",
    "    df.Percentage = df.apply(lambda x: np.nan if x['ActiveCount'] == 0 else x['StickyCount'] / x['ActiveCount'], axis=1)  \n",
    "    \n",
    "    df2 = df[['ActiveCount', 'StickyCount', 'Percentage']].copy()\n",
    "    df2['UUID'] = uuid\n",
    "    return df2"
   ]
  },
  {
   "cell_type": "code",
   "execution_count": 10,
   "metadata": {},
   "outputs": [
    {
     "data": {
      "text/html": [
       "<div>\n",
       "<style scoped>\n",
       "    .dataframe tbody tr th:only-of-type {\n",
       "        vertical-align: middle;\n",
       "    }\n",
       "\n",
       "    .dataframe tbody tr th {\n",
       "        vertical-align: top;\n",
       "    }\n",
       "\n",
       "    .dataframe thead th {\n",
       "        text-align: right;\n",
       "    }\n",
       "</style>\n",
       "<table border=\"1\" class=\"dataframe\">\n",
       "  <thead>\n",
       "    <tr style=\"text-align: right;\">\n",
       "      <th></th>\n",
       "      <th>ActiveCount</th>\n",
       "      <th>StickyCount</th>\n",
       "      <th>Percentage</th>\n",
       "      <th>UUID</th>\n",
       "    </tr>\n",
       "  </thead>\n",
       "  <tbody>\n",
       "    <tr>\n",
       "      <th>8830107</th>\n",
       "      <td>1</td>\n",
       "      <td>0</td>\n",
       "      <td>0.0</td>\n",
       "      <td>device.3952</td>\n",
       "    </tr>\n",
       "    <tr>\n",
       "      <th>8830108</th>\n",
       "      <td>0</td>\n",
       "      <td>0</td>\n",
       "      <td>NaN</td>\n",
       "      <td>device.3952</td>\n",
       "    </tr>\n",
       "    <tr>\n",
       "      <th>8830109</th>\n",
       "      <td>0</td>\n",
       "      <td>0</td>\n",
       "      <td>NaN</td>\n",
       "      <td>device.3952</td>\n",
       "    </tr>\n",
       "    <tr>\n",
       "      <th>8830110</th>\n",
       "      <td>0</td>\n",
       "      <td>0</td>\n",
       "      <td>NaN</td>\n",
       "      <td>device.3952</td>\n",
       "    </tr>\n",
       "    <tr>\n",
       "      <th>8830111</th>\n",
       "      <td>2</td>\n",
       "      <td>0</td>\n",
       "      <td>0.0</td>\n",
       "      <td>device.3952</td>\n",
       "    </tr>\n",
       "  </tbody>\n",
       "</table>\n",
       "</div>"
      ],
      "text/plain": [
       "         ActiveCount  StickyCount  Percentage         UUID\n",
       "8830107            1            0         0.0  device.3952\n",
       "8830108            0            0         NaN  device.3952\n",
       "8830109            0            0         NaN  device.3952\n",
       "8830110            0            0         NaN  device.3952\n",
       "8830111            2            0         0.0  device.3952"
      ]
     },
     "execution_count": 10,
     "metadata": {},
     "output_type": "execute_result"
    }
   ],
   "source": [
    "uuids = valid.UUID.tolist()\n",
    "\n",
    "p = Pool(NUM_CORES)\n",
    "lst = p.map(worker_sticky, uuids)\n",
    "\n",
    "sticky = pd.concat(lst)\n",
    "sticky = sticky.reset_index(drop=True)\n",
    "sticky.tail()"
   ]
  },
  {
   "cell_type": "code",
   "execution_count": 11,
   "metadata": {},
   "outputs": [
    {
     "data": {
      "text/plain": [
       "3953"
      ]
     },
     "execution_count": 11,
     "metadata": {},
     "output_type": "execute_result"
    }
   ],
   "source": [
    "len(sticky.UUID.unique())"
   ]
  },
  {
   "cell_type": "code",
   "execution_count": 12,
   "metadata": {},
   "outputs": [
    {
     "data": {
      "text/plain": [
       "8830112"
      ]
     },
     "execution_count": 12,
     "metadata": {},
     "output_type": "execute_result"
    }
   ],
   "source": [
    "len(sticky)"
   ]
  },
  {
   "cell_type": "code",
   "execution_count": 13,
   "metadata": {},
   "outputs": [
    {
     "data": {
      "text/html": [
       "<div>\n",
       "<style scoped>\n",
       "    .dataframe tbody tr th:only-of-type {\n",
       "        vertical-align: middle;\n",
       "    }\n",
       "\n",
       "    .dataframe tbody tr th {\n",
       "        vertical-align: top;\n",
       "    }\n",
       "\n",
       "    .dataframe thead th {\n",
       "        text-align: right;\n",
       "    }\n",
       "</style>\n",
       "<table border=\"1\" class=\"dataframe\">\n",
       "  <thead>\n",
       "    <tr style=\"text-align: right;\">\n",
       "      <th></th>\n",
       "      <th>ActiveCount</th>\n",
       "      <th>StickyCount</th>\n",
       "      <th>Percentage</th>\n",
       "    </tr>\n",
       "  </thead>\n",
       "  <tbody>\n",
       "    <tr>\n",
       "      <th>count</th>\n",
       "      <td>8.830112e+06</td>\n",
       "      <td>8.830112e+06</td>\n",
       "      <td>7.017008e+06</td>\n",
       "    </tr>\n",
       "    <tr>\n",
       "      <th>mean</th>\n",
       "      <td>4.624668e+00</td>\n",
       "      <td>9.179454e-01</td>\n",
       "      <td>3.509911e-01</td>\n",
       "    </tr>\n",
       "    <tr>\n",
       "      <th>std</th>\n",
       "      <td>7.817107e+00</td>\n",
       "      <td>1.241336e+00</td>\n",
       "      <td>3.811704e-01</td>\n",
       "    </tr>\n",
       "    <tr>\n",
       "      <th>min</th>\n",
       "      <td>0.000000e+00</td>\n",
       "      <td>0.000000e+00</td>\n",
       "      <td>0.000000e+00</td>\n",
       "    </tr>\n",
       "    <tr>\n",
       "      <th>25%</th>\n",
       "      <td>1.000000e+00</td>\n",
       "      <td>0.000000e+00</td>\n",
       "      <td>0.000000e+00</td>\n",
       "    </tr>\n",
       "    <tr>\n",
       "      <th>50%</th>\n",
       "      <td>2.000000e+00</td>\n",
       "      <td>1.000000e+00</td>\n",
       "      <td>2.000000e-01</td>\n",
       "    </tr>\n",
       "    <tr>\n",
       "      <th>75%</th>\n",
       "      <td>5.000000e+00</td>\n",
       "      <td>1.000000e+00</td>\n",
       "      <td>6.250000e-01</td>\n",
       "    </tr>\n",
       "    <tr>\n",
       "      <th>max</th>\n",
       "      <td>1.600000e+02</td>\n",
       "      <td>3.400000e+01</td>\n",
       "      <td>1.000000e+00</td>\n",
       "    </tr>\n",
       "  </tbody>\n",
       "</table>\n",
       "</div>"
      ],
      "text/plain": [
       "        ActiveCount   StickyCount    Percentage\n",
       "count  8.830112e+06  8.830112e+06  7.017008e+06\n",
       "mean   4.624668e+00  9.179454e-01  3.509911e-01\n",
       "std    7.817107e+00  1.241336e+00  3.811704e-01\n",
       "min    0.000000e+00  0.000000e+00  0.000000e+00\n",
       "25%    1.000000e+00  0.000000e+00  0.000000e+00\n",
       "50%    2.000000e+00  1.000000e+00  2.000000e-01\n",
       "75%    5.000000e+00  1.000000e+00  6.250000e-01\n",
       "max    1.600000e+02  3.400000e+01  1.000000e+00"
      ]
     },
     "execution_count": 13,
     "metadata": {},
     "output_type": "execute_result"
    }
   ],
   "source": [
    "sticky.describe()"
   ]
  },
  {
   "cell_type": "code",
   "execution_count": 14,
   "metadata": {},
   "outputs": [
    {
     "data": {
      "text/plain": [
       "<matplotlib.axes._subplots.AxesSubplot at 0x7f6404e4cc18>"
      ]
     },
     "execution_count": 14,
     "metadata": {},
     "output_type": "execute_result"
    },
    {
     "data": {
      "image/png": "[encoded data removed]",
      "text/plain": [
       "<Figure size 432x288 with 1 Axes>"
      ]
     },
     "metadata": {
      "needs_background": "light"
     },
     "output_type": "display_data"
    }
   ],
   "source": [
    "sticky[sticky.StickyCount > 0].StickyCount.hist(bins=int(sticky.StickyCount.max()))"
   ]
  },
  {
   "cell_type": "markdown",
   "metadata": {},
   "source": [
    "## Unique notifications"
   ]
  },
  {
   "cell_type": "markdown",
   "metadata": {},
   "source": [
    "**RQ:** How many of the ~11m unique notifications are non-clearable?"
   ]
  },
  {
   "cell_type": "code",
   "execution_count": 15,
   "metadata": {},
   "outputs": [],
   "source": [
    "def get_notifications(lst):\n",
    "    result = []\n",
    "    for n in lst:\n",
    "        result.append({\n",
    "            'PackageName': n['packageName'],\n",
    "            'Id': n['key'] + '@' + str(n['postTime']),\n",
    "            'Clearable': n['isClearable']\n",
    "        })\n",
    "    return result\n",
    "\n",
    "def worker_sticky_unique(uuid):\n",
    "    df = pd.read_pickle('%s%s.pkl.gz' % (PATH_DEVICES_DIR, uuid), compression='gzip')   \n",
    "    result = df.Active.apply(get_notifications).tolist()\n",
    "    result = list(itertools.chain(*result))\n",
    "    result = pd.DataFrame(result)\n",
    "    result = result.groupby('Id', as_index=False).agg(list)\n",
    "    \n",
    "    # Some notifications (media?) seem to toggle the clearable-state\n",
    "    # without re-triggering the notification. For those notifications we\n",
    "    # see multiple entries with different clearable-states. We simply\n",
    "    # pick the last state.\n",
    "    result.Clearable = result.Clearable.apply(lambda x: x[-1])\n",
    "    result.PackageName = result.PackageName.apply(lambda x: x[-1])\n",
    "    \n",
    "    result['UUID'] = uuid\n",
    "    return result"
   ]
  },
  {
   "cell_type": "code",
   "execution_count": 16,
   "metadata": {},
   "outputs": [
    {
     "data": {
      "text/html": [
       "<div>\n",
       "<style scoped>\n",
       "    .dataframe tbody tr th:only-of-type {\n",
       "        vertical-align: middle;\n",
       "    }\n",
       "\n",
       "    .dataframe tbody tr th {\n",
       "        vertical-align: top;\n",
       "    }\n",
       "\n",
       "    .dataframe thead th {\n",
       "        text-align: right;\n",
       "    }\n",
       "</style>\n",
       "<table border=\"1\" class=\"dataframe\">\n",
       "  <thead>\n",
       "    <tr style=\"text-align: right;\">\n",
       "      <th></th>\n",
       "      <th>Id</th>\n",
       "      <th>Clearable</th>\n",
       "      <th>PackageName</th>\n",
       "      <th>UUID</th>\n",
       "    </tr>\n",
       "  </thead>\n",
       "  <tbody>\n",
       "    <tr>\n",
       "      <th>10928875</th>\n",
       "      <td>key.1437644@1541624736895</td>\n",
       "      <td>False</td>\n",
       "      <td>com.android.systemui</td>\n",
       "      <td>device.3952</td>\n",
       "    </tr>\n",
       "    <tr>\n",
       "      <th>10928876</th>\n",
       "      <td>key.1437644@1541769638374</td>\n",
       "      <td>False</td>\n",
       "      <td>com.android.systemui</td>\n",
       "      <td>device.3952</td>\n",
       "    </tr>\n",
       "    <tr>\n",
       "      <th>10928877</th>\n",
       "      <td>key.1437645@1541523629135</td>\n",
       "      <td>True</td>\n",
       "      <td>com.android.vending</td>\n",
       "      <td>device.3952</td>\n",
       "    </tr>\n",
       "    <tr>\n",
       "      <th>10928878</th>\n",
       "      <td>key.1437645@1541696878386</td>\n",
       "      <td>True</td>\n",
       "      <td>com.android.vending</td>\n",
       "      <td>device.3952</td>\n",
       "    </tr>\n",
       "    <tr>\n",
       "      <th>10928879</th>\n",
       "      <td>key.1437646@1541608219788</td>\n",
       "      <td>True</td>\n",
       "      <td>wp.wattpad</td>\n",
       "      <td>device.3952</td>\n",
       "    </tr>\n",
       "  </tbody>\n",
       "</table>\n",
       "</div>"
      ],
      "text/plain": [
       "                                 Id  Clearable           PackageName  \\\n",
       "10928875  key.1437644@1541624736895      False  com.android.systemui   \n",
       "10928876  key.1437644@1541769638374      False  com.android.systemui   \n",
       "10928877  key.1437645@1541523629135       True   com.android.vending   \n",
       "10928878  key.1437645@1541696878386       True   com.android.vending   \n",
       "10928879  key.1437646@1541608219788       True            wp.wattpad   \n",
       "\n",
       "                 UUID  \n",
       "10928875  device.3952  \n",
       "10928876  device.3952  \n",
       "10928877  device.3952  \n",
       "10928878  device.3952  \n",
       "10928879  device.3952  "
      ]
     },
     "execution_count": 16,
     "metadata": {},
     "output_type": "execute_result"
    }
   ],
   "source": [
    "uuids = valid.UUID.tolist()\n",
    "\n",
    "p = Pool(NUM_CORES)\n",
    "lst = p.map(worker_sticky_unique, uuids)\n",
    "\n",
    "unique = pd.concat(lst)\n",
    "unique = unique.reset_index(drop=True)\n",
    "unique.tail()"
   ]
  },
  {
   "cell_type": "code",
   "execution_count": 17,
   "metadata": {},
   "outputs": [
    {
     "data": {
      "text/plain": [
       "3953"
      ]
     },
     "execution_count": 17,
     "metadata": {},
     "output_type": "execute_result"
    }
   ],
   "source": [
    "len(unique.UUID.unique())"
   ]
  },
  {
   "cell_type": "code",
   "execution_count": 18,
   "metadata": {},
   "outputs": [
    {
     "data": {
      "text/plain": [
       "10928880"
      ]
     },
     "execution_count": 18,
     "metadata": {},
     "output_type": "execute_result"
    }
   ],
   "source": [
    "len(unique)"
   ]
  },
  {
   "cell_type": "code",
   "execution_count": 19,
   "metadata": {},
   "outputs": [
    {
     "name": "stdout",
     "output_type": "stream",
     "text": [
      "Clearable?\n"
     ]
    },
    {
     "data": {
      "text/plain": [
       "True     71.27%\n",
       "False    28.73%\n",
       "Name: Clearable, dtype: object"
      ]
     },
     "execution_count": 19,
     "metadata": {},
     "output_type": "execute_result"
    }
   ],
   "source": [
    "print('Clearable?')\n",
    "unique.Clearable.value_counts(dropna=False, normalize=True).apply(lambda x: '%s%%' % np.round(x * 100, 2))"
   ]
  },
  {
   "cell_type": "markdown",
   "metadata": {},
   "source": [
    "## Packages and categories"
   ]
  },
  {
   "cell_type": "code",
   "execution_count": 20,
   "metadata": {},
   "outputs": [
    {
     "data": {
      "text/html": [
       "<div>\n",
       "<style scoped>\n",
       "    .dataframe tbody tr th:only-of-type {\n",
       "        vertical-align: middle;\n",
       "    }\n",
       "\n",
       "    .dataframe tbody tr th {\n",
       "        vertical-align: top;\n",
       "    }\n",
       "\n",
       "    .dataframe thead th {\n",
       "        text-align: right;\n",
       "    }\n",
       "</style>\n",
       "<table border=\"1\" class=\"dataframe\">\n",
       "  <thead>\n",
       "    <tr style=\"text-align: right;\">\n",
       "      <th></th>\n",
       "      <th>Id</th>\n",
       "      <th>Clearable</th>\n",
       "      <th>PackageName</th>\n",
       "      <th>UUID</th>\n",
       "      <th>Category</th>\n",
       "    </tr>\n",
       "  </thead>\n",
       "  <tbody>\n",
       "    <tr>\n",
       "      <th>10928875</th>\n",
       "      <td>key.1437644@1541624736895</td>\n",
       "      <td>False</td>\n",
       "      <td>com.android.systemui</td>\n",
       "      <td>device.3952</td>\n",
       "      <td>SYSTEM</td>\n",
       "    </tr>\n",
       "    <tr>\n",
       "      <th>10928876</th>\n",
       "      <td>key.1437644@1541769638374</td>\n",
       "      <td>False</td>\n",
       "      <td>com.android.systemui</td>\n",
       "      <td>device.3952</td>\n",
       "      <td>SYSTEM</td>\n",
       "    </tr>\n",
       "    <tr>\n",
       "      <th>10928877</th>\n",
       "      <td>key.1437645@1541523629135</td>\n",
       "      <td>True</td>\n",
       "      <td>com.android.vending</td>\n",
       "      <td>device.3952</td>\n",
       "      <td>SYSTEM</td>\n",
       "    </tr>\n",
       "    <tr>\n",
       "      <th>10928878</th>\n",
       "      <td>key.1437645@1541696878386</td>\n",
       "      <td>True</td>\n",
       "      <td>com.android.vending</td>\n",
       "      <td>device.3952</td>\n",
       "      <td>SYSTEM</td>\n",
       "    </tr>\n",
       "    <tr>\n",
       "      <th>10928879</th>\n",
       "      <td>key.1437646@1541608219788</td>\n",
       "      <td>True</td>\n",
       "      <td>wp.wattpad</td>\n",
       "      <td>device.3952</td>\n",
       "      <td>MEDIA</td>\n",
       "    </tr>\n",
       "  </tbody>\n",
       "</table>\n",
       "</div>"
      ],
      "text/plain": [
       "                                 Id  Clearable           PackageName  \\\n",
       "10928875  key.1437644@1541624736895      False  com.android.systemui   \n",
       "10928876  key.1437644@1541769638374      False  com.android.systemui   \n",
       "10928877  key.1437645@1541523629135       True   com.android.vending   \n",
       "10928878  key.1437645@1541696878386       True   com.android.vending   \n",
       "10928879  key.1437646@1541608219788       True            wp.wattpad   \n",
       "\n",
       "                 UUID Category  \n",
       "10928875  device.3952   SYSTEM  \n",
       "10928876  device.3952   SYSTEM  \n",
       "10928877  device.3952   SYSTEM  \n",
       "10928878  device.3952   SYSTEM  \n",
       "10928879  device.3952    MEDIA  "
      ]
     },
     "execution_count": 20,
     "metadata": {},
     "output_type": "execute_result"
    }
   ],
   "source": [
    "pc = unique.copy()\n",
    "pc.Clearable = pc.Clearable.astype(bool)\n",
    "\n",
    "pc['Category'] = pc.PackageName.apply(lambda x: category_mapping[x] if x in category_mapping else 'UNKNOWN')\n",
    "\n",
    "pc.tail()"
   ]
  },
  {
   "cell_type": "markdown",
   "metadata": {},
   "source": [
    "### Apps"
   ]
  },
  {
   "cell_type": "markdown",
   "metadata": {},
   "source": [
    "Clearable:"
   ]
  },
  {
   "cell_type": "code",
   "execution_count": 21,
   "metadata": {},
   "outputs": [
    {
     "data": {
      "text/plain": [
       "com.whatsapp                               35.64%\n",
       "com.google.android.googlequicksearchbox     5.57%\n",
       "com.instagram.android                       5.26%\n",
       "com.google.android.gm                       5.26%\n",
       "com.google.android.apps.maps                2.69%\n",
       "com.samsung.android.email.provider          2.51%\n",
       "com.samsung.android.messaging               2.47%\n",
       "com.android.systemui                        2.45%\n",
       "com.facebook.katana                         2.44%\n",
       "com.google.android.youtube                  2.11%\n",
       "Name: PackageName, dtype: object"
      ]
     },
     "execution_count": 21,
     "metadata": {},
     "output_type": "execute_result"
    }
   ],
   "source": [
    "pc[pc.Clearable].PackageName.value_counts(dropna=False, normalize=True).head(10) \\\n",
    "    .apply(lambda x: '%s%%' % np.round(x * 100, 2))"
   ]
  },
  {
   "cell_type": "markdown",
   "metadata": {},
   "source": [
    "Non-clearable:"
   ]
  },
  {
   "cell_type": "code",
   "execution_count": 22,
   "metadata": {},
   "outputs": [
    {
     "data": {
      "text/plain": [
       "android                            18.11%\n",
       "com.android.systemui               14.33%\n",
       "com.samsung.android.incallui        3.88%\n",
       "com.sec.android.app.music           3.69%\n",
       "com.whatsapp                        3.53%\n",
       "com.mobilion.diyanet.namazvakit     3.07%\n",
       "com.mobilexsoft.ezanvakti           2.97%\n",
       "com.google.android.music            2.39%\n",
       "com.facebook.orca                   2.18%\n",
       "com.internet.speed.meter.lite       1.58%\n",
       "Name: PackageName, dtype: object"
      ]
     },
     "execution_count": 22,
     "metadata": {},
     "output_type": "execute_result"
    }
   ],
   "source": [
    "pc[~pc.Clearable].PackageName.value_counts(dropna=False, normalize=True).head(10) \\\n",
    "    .apply(lambda x: '%s%%' % np.round(x * 100, 2))"
   ]
  },
  {
   "cell_type": "markdown",
   "metadata": {},
   "source": [
    "### Categories"
   ]
  },
  {
   "cell_type": "markdown",
   "metadata": {},
   "source": [
    "Clearable:"
   ]
  },
  {
   "cell_type": "code",
   "execution_count": 23,
   "metadata": {},
   "outputs": [
    {
     "data": {
      "text/plain": [
       "SMS/IM               44.91%\n",
       "SOCIAL                10.8%\n",
       "EMAIL                 9.33%\n",
       "TOOL                  8.61%\n",
       "SYSTEM                7.29%\n",
       "UNKNOWN               4.95%\n",
       "MEDIA                 3.85%\n",
       "NAVIGATION            2.78%\n",
       "PHONE                 2.14%\n",
       "CALENDAR/REMINDER     1.41%\n",
       "GAME                  1.31%\n",
       "NEWS                  1.13%\n",
       "SHOPPING              1.07%\n",
       "HEALTH/FITNESS        0.43%\n",
       "Name: Category, dtype: object"
      ]
     },
     "execution_count": 23,
     "metadata": {},
     "output_type": "execute_result"
    }
   ],
   "source": [
    "pc[pc.Clearable].Category.value_counts(dropna=False, normalize=True) \\\n",
    "    .apply(lambda x: '%s%%' % np.round(x * 100, 2))"
   ]
  },
  {
   "cell_type": "markdown",
   "metadata": {},
   "source": [
    "Non-clearable:"
   ]
  },
  {
   "cell_type": "code",
   "execution_count": 24,
   "metadata": {},
   "outputs": [
    {
     "data": {
      "text/plain": [
       "SYSTEM               35.15%\n",
       "TOOL                 16.13%\n",
       "UNKNOWN              15.58%\n",
       "MEDIA                10.77%\n",
       "PHONE                 9.18%\n",
       "SMS/IM                6.18%\n",
       "HEALTH/FITNESS         3.3%\n",
       "CALENDAR/REMINDER     1.93%\n",
       "NEWS                  0.98%\n",
       "NAVIGATION            0.61%\n",
       "SHOPPING              0.08%\n",
       "SOCIAL                0.05%\n",
       "EMAIL                 0.05%\n",
       "GAME                   0.0%\n",
       "Name: Category, dtype: object"
      ]
     },
     "execution_count": 24,
     "metadata": {},
     "output_type": "execute_result"
    }
   ],
   "source": [
    "pc[~pc.Clearable].Category.value_counts(dropna=False, normalize=True) \\\n",
    "    .apply(lambda x: '%s%%' % np.round(x * 100, 2))"
   ]
  },
  {
   "cell_type": "markdown",
   "metadata": {},
   "source": [
    "## Random extra stats"
   ]
  },
  {
   "cell_type": "markdown",
   "metadata": {},
   "source": [
    "This is not really related to this notebook but here is the categorization coverage of the unique notifications:"
   ]
  },
  {
   "cell_type": "code",
   "execution_count": 25,
   "metadata": {},
   "outputs": [
    {
     "name": "stdout",
     "output_type": "stream",
     "text": [
      "Categorized unique notifications: 92.0%\n",
      "Non-categorized unique notifications: 8.0%\n"
     ]
    }
   ],
   "source": [
    "print('Categorized unique notifications: %s%%' % np.round(len(pc[pc.Category != 'UNKNOWN']) / len(pc) * 100, 2))\n",
    "print('Non-categorized unique notifications: %s%%' % np.round(len(pc[pc.Category == 'UNKNOWN']) / len(pc) * 100, 2))"
   ]
  },
  {
   "cell_type": "markdown",
   "metadata": {},
   "source": [
    "And here is the number of unique notifications per category:"
   ]
  },
  {
   "cell_type": "code",
   "execution_count": 26,
   "metadata": {},
   "outputs": [
    {
     "data": {
      "text/plain": [
       "CALENDAR/REMINDER     170284\n",
       "EMAIL                 728464\n",
       "GAME                  102164\n",
       "HEALTH/FITNESS        137404\n",
       "MEDIA                 637850\n",
       "NAVIGATION            235631\n",
       "NEWS                  118797\n",
       "PHONE                 454586\n",
       "SHOPPING               85758\n",
       "SMS/IM               3692077\n",
       "SOCIAL                843004\n",
       "SYSTEM               1671025\n",
       "TOOL                 1177235\n",
       "UNKNOWN               874601\n",
       "Name: Category, dtype: int64"
      ]
     },
     "execution_count": 26,
     "metadata": {},
     "output_type": "execute_result"
    }
   ],
   "source": [
    "pc.Category.value_counts().sort_index()"
   ]
  },
  {
   "cell_type": "markdown",
   "metadata": {},
   "source": [
    "Number of unique notifications:"
   ]
  },
  {
   "cell_type": "code",
   "execution_count": 27,
   "metadata": {},
   "outputs": [
    {
     "data": {
      "text/plain": [
       "10928880"
      ]
     },
     "execution_count": 27,
     "metadata": {},
     "output_type": "execute_result"
    }
   ],
   "source": [
    "len(pc)"
   ]
  },
  {
   "cell_type": "code",
   "execution_count": null,
   "metadata": {},
   "outputs": [],
   "source": []
  },
  {
   "cell_type": "code",
   "execution_count": null,
   "metadata": {},
   "outputs": [],
   "source": []
  },
  {
   "cell_type": "code",
   "execution_count": null,
   "metadata": {},
   "outputs": [],
   "source": []
  }
 ],
 "metadata": {
  "kernelspec": {
   "display_name": "Python 3",
   "language": "python",
   "name": "python3"
  },
  "language_info": {
   "codemirror_mode": {
    "name": "ipython",
    "version": 3
   },
   "file_extension": ".py",
   "mimetype": "text/x-python",
   "name": "python",
   "nbconvert_exporter": "python",
   "pygments_lexer": "ipython3",
   "version": "3.6.7"
  }
 },
 "nbformat": 4,
 "nbformat_minor": 2
}
