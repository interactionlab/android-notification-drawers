{
 "cells": [
  {
   "cell_type": "code",
   "execution_count": 1,
   "metadata": {},
   "outputs": [],
   "source": [
    "import pandas as pd\n",
    "import numpy as np\n",
    "import matplotlib.pyplot as plt\n",
    "import matplotlib.patches as patches\n",
    "import os\n",
    "import itertools\n",
    "\n",
    "from multiprocessing import Pool"
   ]
  },
  {
   "cell_type": "code",
   "execution_count": 2,
   "metadata": {},
   "outputs": [],
   "source": [
    "%run config.py"
   ]
  },
  {
   "cell_type": "code",
   "execution_count": 3,
   "metadata": {},
   "outputs": [],
   "source": [
    "valid = pd.read_pickle(PATH_VALID_DEVICES, compression='gzip')"
   ]
  },
  {
   "cell_type": "markdown",
   "metadata": {},
   "source": [
    "# Snapshots per hour"
   ]
  },
  {
   "cell_type": "markdown",
   "metadata": {},
   "source": [
    "**RQ:** How many snapshots did we collect per hour of the day?"
   ]
  },
  {
   "cell_type": "code",
   "execution_count": 4,
   "metadata": {},
   "outputs": [],
   "source": [
    "def worker_snapshots_per_hour(uuid):\n",
    "    df = pd.read_pickle('%s%s.pkl.gz' % (PATH_DEVICES_DIR, uuid), compression='gzip')\n",
    "    return pd.DataFrame(columns=[h for h in range(0,24)]).append(df.LocalTime.dt.hour.value_counts().sort_index().T, ignore_index=True)"
   ]
  },
  {
   "cell_type": "code",
   "execution_count": 5,
   "metadata": {},
   "outputs": [
    {
     "data": {
      "text/html": [
       "<div>\n",
       "<style scoped>\n",
       "    .dataframe tbody tr th:only-of-type {\n",
       "        vertical-align: middle;\n",
       "    }\n",
       "\n",
       "    .dataframe tbody tr th {\n",
       "        vertical-align: top;\n",
       "    }\n",
       "\n",
       "    .dataframe thead th {\n",
       "        text-align: right;\n",
       "    }\n",
       "</style>\n",
       "<table border=\"1\" class=\"dataframe\">\n",
       "  <thead>\n",
       "    <tr style=\"text-align: right;\">\n",
       "      <th></th>\n",
       "      <th>0</th>\n",
       "      <th>1</th>\n",
       "      <th>2</th>\n",
       "      <th>3</th>\n",
       "      <th>4</th>\n",
       "      <th>5</th>\n",
       "      <th>6</th>\n",
       "      <th>7</th>\n",
       "      <th>8</th>\n",
       "      <th>9</th>\n",
       "      <th>...</th>\n",
       "      <th>14</th>\n",
       "      <th>15</th>\n",
       "      <th>16</th>\n",
       "      <th>17</th>\n",
       "      <th>18</th>\n",
       "      <th>19</th>\n",
       "      <th>20</th>\n",
       "      <th>21</th>\n",
       "      <th>22</th>\n",
       "      <th>23</th>\n",
       "    </tr>\n",
       "  </thead>\n",
       "  <tbody>\n",
       "    <tr>\n",
       "      <th>3948</th>\n",
       "      <td>61</td>\n",
       "      <td>51</td>\n",
       "      <td>40</td>\n",
       "      <td>38</td>\n",
       "      <td>31</td>\n",
       "      <td>32</td>\n",
       "      <td>64</td>\n",
       "      <td>81</td>\n",
       "      <td>92</td>\n",
       "      <td>78</td>\n",
       "      <td>...</td>\n",
       "      <td>77</td>\n",
       "      <td>87</td>\n",
       "      <td>77</td>\n",
       "      <td>75</td>\n",
       "      <td>88</td>\n",
       "      <td>79</td>\n",
       "      <td>84</td>\n",
       "      <td>85</td>\n",
       "      <td>80</td>\n",
       "      <td>75</td>\n",
       "    </tr>\n",
       "    <tr>\n",
       "      <th>3949</th>\n",
       "      <td>33</td>\n",
       "      <td>36</td>\n",
       "      <td>34</td>\n",
       "      <td>40</td>\n",
       "      <td>34</td>\n",
       "      <td>41</td>\n",
       "      <td>37</td>\n",
       "      <td>43</td>\n",
       "      <td>42</td>\n",
       "      <td>35</td>\n",
       "      <td>...</td>\n",
       "      <td>40</td>\n",
       "      <td>37</td>\n",
       "      <td>36</td>\n",
       "      <td>32</td>\n",
       "      <td>42</td>\n",
       "      <td>49</td>\n",
       "      <td>44</td>\n",
       "      <td>45</td>\n",
       "      <td>45</td>\n",
       "      <td>42</td>\n",
       "    </tr>\n",
       "    <tr>\n",
       "      <th>3950</th>\n",
       "      <td>151</td>\n",
       "      <td>157</td>\n",
       "      <td>154</td>\n",
       "      <td>154</td>\n",
       "      <td>148</td>\n",
       "      <td>149</td>\n",
       "      <td>146</td>\n",
       "      <td>146</td>\n",
       "      <td>152</td>\n",
       "      <td>146</td>\n",
       "      <td>...</td>\n",
       "      <td>159</td>\n",
       "      <td>168</td>\n",
       "      <td>167</td>\n",
       "      <td>172</td>\n",
       "      <td>165</td>\n",
       "      <td>171</td>\n",
       "      <td>162</td>\n",
       "      <td>157</td>\n",
       "      <td>154</td>\n",
       "      <td>147</td>\n",
       "    </tr>\n",
       "    <tr>\n",
       "      <th>3951</th>\n",
       "      <td>80</td>\n",
       "      <td>81</td>\n",
       "      <td>74</td>\n",
       "      <td>73</td>\n",
       "      <td>73</td>\n",
       "      <td>72</td>\n",
       "      <td>75</td>\n",
       "      <td>71</td>\n",
       "      <td>71</td>\n",
       "      <td>66</td>\n",
       "      <td>...</td>\n",
       "      <td>74</td>\n",
       "      <td>73</td>\n",
       "      <td>80</td>\n",
       "      <td>83</td>\n",
       "      <td>78</td>\n",
       "      <td>74</td>\n",
       "      <td>76</td>\n",
       "      <td>82</td>\n",
       "      <td>80</td>\n",
       "      <td>86</td>\n",
       "    </tr>\n",
       "    <tr>\n",
       "      <th>3952</th>\n",
       "      <td>44</td>\n",
       "      <td>48</td>\n",
       "      <td>46</td>\n",
       "      <td>47</td>\n",
       "      <td>31</td>\n",
       "      <td>29</td>\n",
       "      <td>31</td>\n",
       "      <td>34</td>\n",
       "      <td>29</td>\n",
       "      <td>31</td>\n",
       "      <td>...</td>\n",
       "      <td>44</td>\n",
       "      <td>50</td>\n",
       "      <td>48</td>\n",
       "      <td>50</td>\n",
       "      <td>45</td>\n",
       "      <td>44</td>\n",
       "      <td>44</td>\n",
       "      <td>48</td>\n",
       "      <td>42</td>\n",
       "      <td>43</td>\n",
       "    </tr>\n",
       "  </tbody>\n",
       "</table>\n",
       "<p>5 rows × 24 columns</p>\n",
       "</div>"
      ],
      "text/plain": [
       "       0    1    2    3    4    5    6    7    8    9   ...   14   15   16  \\\n",
       "3948   61   51   40   38   31   32   64   81   92   78  ...   77   87   77   \n",
       "3949   33   36   34   40   34   41   37   43   42   35  ...   40   37   36   \n",
       "3950  151  157  154  154  148  149  146  146  152  146  ...  159  168  167   \n",
       "3951   80   81   74   73   73   72   75   71   71   66  ...   74   73   80   \n",
       "3952   44   48   46   47   31   29   31   34   29   31  ...   44   50   48   \n",
       "\n",
       "       17   18   19   20   21   22   23  \n",
       "3948   75   88   79   84   85   80   75  \n",
       "3949   32   42   49   44   45   45   42  \n",
       "3950  172  165  171  162  157  154  147  \n",
       "3951   83   78   74   76   82   80   86  \n",
       "3952   50   45   44   44   48   42   43  \n",
       "\n",
       "[5 rows x 24 columns]"
      ]
     },
     "execution_count": 5,
     "metadata": {},
     "output_type": "execute_result"
    }
   ],
   "source": [
    "uuids = valid.UUID.tolist()\n",
    "\n",
    "p = Pool(NUM_CORES)\n",
    "lst = p.map(worker_snapshots_per_hour, uuids)\n",
    "\n",
    "hours = pd.concat(lst)\n",
    "hours = hours.reset_index(drop=True)\n",
    "hours.tail()"
   ]
  },
  {
   "cell_type": "code",
   "execution_count": 6,
   "metadata": {},
   "outputs": [
    {
     "data": {
      "image/png": "[encoded data removed]",
      "text/plain": [
       "<Figure size 432x288 with 1 Axes>"
      ]
     },
     "metadata": {
      "needs_background": "light"
     },
     "output_type": "display_data"
    }
   ],
   "source": [
    "ax = hours.fillna(0).mean(axis=0).plot(\n",
    "    kind='line',\n",
    "    xlim=(0, 23),\n",
    "    xticks=range(0, 24, 1),\n",
    "    yticks=range(0, 190, 10),\n",
    "    figsize=(6, 4),\n",
    "    legend=True,\n",
    "    grid=True)\n",
    "\n",
    "# Ticks\n",
    "ax.set_xticks(range(0, 24, 2))\n",
    "ax.set_xticks(range(0, 24, 1), minor=True)\n",
    "ax.set_yticks(range(0, 190, 20))\n",
    "ax.set_yticks(range(0, 190, 10), minor=True)\n",
    "\n",
    "# Grid\n",
    "ax.set_axisbelow(True)\n",
    "ax.xaxis.grid(alpha=0.2, linestyle='dashed')\n",
    "ax.yaxis.grid(alpha=0.2, linestyle='dashed')\n",
    "\n",
    "# Tweak font sizes\n",
    "ax.set_xlabel('Hour', fontsize=10)\n",
    "ax.set_ylabel('Snapshots', fontsize=10)\n",
    "ax.tick_params(labelsize=10)\n",
    "\n",
    "# Quantiles\n",
    "ax.fill_between(range(0, 24),\n",
    "                [hours.fillna(0)[x].quantile(.25) for x in hours.fillna(0).columns],\n",
    "                [hours.fillna(0)[x].quantile(.75) for x in hours.fillna(0).columns],\n",
    "                color='#539caf',\n",
    "                alpha=0.2,\n",
    "                zorder=100,\n",
    "                hatch='/')\n",
    "\n",
    "# Std\n",
    "ax.fill_between(range(0, 24),\n",
    "                [hours.fillna(0)[x].mean() - hours.fillna(0)[x].std() for x in hours.fillna(0).columns],\n",
    "                [hours.fillna(0)[x].mean() + hours.fillna(0)[x].std() for x in hours.fillna(0).columns],\n",
    "                color='#539caf',\n",
    "                alpha=0.2)\n",
    "\n",
    "# Overall mean\n",
    "#ax.axhline(hours.mean().mean(), color='r', linestyle='--')\n",
    "\n",
    "# Legend\n",
    "handles, labels = ax.get_legend_handles_labels()\n",
    "ax.legend(handles=handles+[patches.Patch(color='#539caf', alpha=0.2), patches.Patch(color='#539caf', hatch='///', alpha=0.4)],\n",
    "          labels=['Mean', 'Std', '25th/75th Percentile'],\n",
    "          loc='center',\n",
    "          bbox_to_anchor=(0.5, 1.1),\n",
    "          ncol=3, \n",
    "          prop={'size': 10})\n",
    "\n",
    "plt.savefig('figures/snapshots_per_hour.png', bbox_inches='tight', pad_inches=0, dpi=300)\n",
    "plt.savefig('figures/snapshots_per_hour.pdf', bbox_inches='tight', pad_inches=0)\n",
    "\n",
    "plt.show()"
   ]
  },
  {
   "cell_type": "code",
   "execution_count": 7,
   "metadata": {},
   "outputs": [
    {
     "data": {
      "text/plain": [
       "93.13721832299193"
      ]
     },
     "execution_count": 7,
     "metadata": {},
     "output_type": "execute_result"
    }
   ],
   "source": [
    "hours.mean().mean()"
   ]
  },
  {
   "cell_type": "code",
   "execution_count": 8,
   "metadata": {},
   "outputs": [
    {
     "data": {
      "text/plain": [
       "8.931816134384421"
      ]
     },
     "execution_count": 8,
     "metadata": {},
     "output_type": "execute_result"
    }
   ],
   "source": [
    "hours.mean().std()"
   ]
  },
  {
   "cell_type": "code",
   "execution_count": null,
   "metadata": {},
   "outputs": [],
   "source": []
  },
  {
   "cell_type": "code",
   "execution_count": null,
   "metadata": {},
   "outputs": [],
   "source": []
  },
  {
   "cell_type": "code",
   "execution_count": null,
   "metadata": {},
   "outputs": [],
   "source": []
  }
 ],
 "metadata": {
  "kernelspec": {
   "display_name": "Python 3",
   "language": "python",
   "name": "python3"
  },
  "language_info": {
   "codemirror_mode": {
    "name": "ipython",
    "version": 3
   },
   "file_extension": ".py",
   "mimetype": "text/x-python",
   "name": "python",
   "nbconvert_exporter": "python",
   "pygments_lexer": "ipython3",
   "version": "3.6.7"
  }
 },
 "nbformat": 4,
 "nbformat_minor": 2
}
