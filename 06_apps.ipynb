{
 "cells": [
  {
   "cell_type": "code",
   "execution_count": 1,
   "metadata": {},
   "outputs": [],
   "source": [
    "import pandas as pd\n",
    "import numpy as np\n",
    "import matplotlib.pyplot as plt\n",
    "import matplotlib.patches as patches\n",
    "import matplotlib.lines as mlines\n",
    "import os\n",
    "import itertools\n",
    "\n",
    "from multiprocessing import Pool"
   ]
  },
  {
   "cell_type": "code",
   "execution_count": 2,
   "metadata": {},
   "outputs": [],
   "source": [
    "%run config.py\n",
    "%run shared.py"
   ]
  },
  {
   "cell_type": "code",
   "execution_count": 3,
   "metadata": {},
   "outputs": [],
   "source": [
    "valid = pd.read_pickle(PATH_VALID_DEVICES)"
   ]
  },
  {
   "cell_type": "markdown",
   "metadata": {},
   "source": [
    "# Apps"
   ]
  },
  {
   "cell_type": "markdown",
   "metadata": {},
   "source": [
    "**RQ1:** How many different apps did we see?  \n",
    "**RQ2:** How many users per app?"
   ]
  },
  {
   "cell_type": "markdown",
   "metadata": {},
   "source": [
    "## 1. Apps per user"
   ]
  },
  {
   "cell_type": "code",
   "execution_count": 4,
   "metadata": {},
   "outputs": [],
   "source": [
    "def get_packages(lst):\n",
    "    packages = []\n",
    "    for n in lst:\n",
    "        packages.append(n['packageName'])\n",
    "    return packages\n",
    "\n",
    "def worker_get_package_counts(uuid):\n",
    "    df = pd.read_pickle('%s%s.pkl.gz' % (PATH_DEVICES_DIR, uuid), compression='gzip')\n",
    "    df.Active = df.Active.apply(get_packages)\n",
    "    result = df.Active.tolist()\n",
    "    result = len(set(itertools.chain(*result)))\n",
    "    return result"
   ]
  },
  {
   "cell_type": "code",
   "execution_count": 5,
   "metadata": {},
   "outputs": [],
   "source": [
    "uuids = valid.UUID.tolist()\n",
    "\n",
    "p = Pool(NUM_CORES)\n",
    "lst_package_counts = p.map(worker_get_package_counts, uuids)"
   ]
  },
  {
   "cell_type": "code",
   "execution_count": 6,
   "metadata": {},
   "outputs": [
    {
     "data": {
      "text/plain": [
       "3948    35\n",
       "3949    24\n",
       "3950    36\n",
       "3951    33\n",
       "3952    11\n",
       "dtype: int64"
      ]
     },
     "execution_count": 6,
     "metadata": {},
     "output_type": "execute_result"
    }
   ],
   "source": [
    "package_counts = pd.Series(lst_package_counts)\n",
    "package_counts.tail()"
   ]
  },
  {
   "cell_type": "code",
   "execution_count": 7,
   "metadata": {},
   "outputs": [
    {
     "data": {
      "text/plain": [
       "count    3953.000000\n",
       "mean       30.912472\n",
       "std        13.813954\n",
       "min         4.000000\n",
       "25%        21.000000\n",
       "50%        28.000000\n",
       "75%        37.000000\n",
       "max       111.000000\n",
       "dtype: float64"
      ]
     },
     "execution_count": 7,
     "metadata": {},
     "output_type": "execute_result"
    }
   ],
   "source": [
    "package_counts.describe()"
   ]
  },
  {
   "cell_type": "markdown",
   "metadata": {},
   "source": [
    "## 2. Users per app"
   ]
  },
  {
   "cell_type": "code",
   "execution_count": 8,
   "metadata": {},
   "outputs": [],
   "source": [
    "def get_packages(lst):\n",
    "    packages = []\n",
    "    for n in lst:\n",
    "        packages.append(n['packageName'])\n",
    "    return packages\n",
    "\n",
    "def worker_get_packages(uuid):\n",
    "    df = pd.read_pickle('%s%s.pkl.gz' % (PATH_DEVICES_DIR, uuid), compression='gzip')\n",
    "    df.Active = df.Active.apply(get_packages)\n",
    "    result = df.Active.tolist()\n",
    "    result = list(set(itertools.chain(*result)))\n",
    "    return result"
   ]
  },
  {
   "cell_type": "code",
   "execution_count": 9,
   "metadata": {},
   "outputs": [
    {
     "data": {
      "text/plain": [
       "3953"
      ]
     },
     "execution_count": 9,
     "metadata": {},
     "output_type": "execute_result"
    }
   ],
   "source": [
    "uuids = valid.UUID.tolist()\n",
    "\n",
    "p = Pool(NUM_CORES)\n",
    "lst = p.map(worker_get_packages, uuids)\n",
    "\n",
    "lst_packages = list(itertools.chain(*lst))\n",
    "len(lst)"
   ]
  },
  {
   "cell_type": "code",
   "execution_count": 10,
   "metadata": {},
   "outputs": [
    {
     "data": {
      "text/plain": [
       "122192    com.android.server.telecom\n",
       "122193                       android\n",
       "122194        com.samsung.android.sm\n",
       "122195                  package.6783\n",
       "122196          com.android.incallui\n",
       "Name: PackageName, dtype: object"
      ]
     },
     "execution_count": 10,
     "metadata": {},
     "output_type": "execute_result"
    }
   ],
   "source": [
    "packages = pd.Series(lst_packages, name='PackageName')\n",
    "packages.tail()"
   ]
  },
  {
   "cell_type": "code",
   "execution_count": 11,
   "metadata": {},
   "outputs": [
    {
     "data": {
      "text/plain": [
       "8823"
      ]
     },
     "execution_count": 11,
     "metadata": {},
     "output_type": "execute_result"
    }
   ],
   "source": [
    "len(packages.unique())"
   ]
  },
  {
   "cell_type": "markdown",
   "metadata": {},
   "source": [
    "### Apps with the most users"
   ]
  },
  {
   "cell_type": "code",
   "execution_count": 12,
   "metadata": {},
   "outputs": [
    {
     "data": {
      "text/plain": [
       "com.android.systemui                       3883\n",
       "android                                    3754\n",
       "com.whatsapp                               3591\n",
       "com.android.vending                        3416\n",
       "com.android.providers.downloads            3030\n",
       "com.instagram.android                      2962\n",
       "com.google.android.youtube                 2773\n",
       "com.android.chrome                         2603\n",
       "com.google.android.googlequicksearchbox    2555\n",
       "com.google.android.apps.maps               2381\n",
       "Name: PackageName, dtype: int64"
      ]
     },
     "execution_count": 12,
     "metadata": {},
     "output_type": "execute_result"
    }
   ],
   "source": [
    "packages.value_counts(dropna=False).head(10)"
   ]
  },
  {
   "cell_type": "markdown",
   "metadata": {},
   "source": [
    "### Stats on user counts"
   ]
  },
  {
   "cell_type": "code",
   "execution_count": 13,
   "metadata": {},
   "outputs": [
    {
     "data": {
      "text/plain": [
       "count    8823.000000\n",
       "mean       13.849824\n",
       "std       129.619888\n",
       "min         1.000000\n",
       "25%         1.000000\n",
       "50%         1.000000\n",
       "75%         3.000000\n",
       "max      3883.000000\n",
       "Name: PackageName, dtype: float64"
      ]
     },
     "execution_count": 13,
     "metadata": {},
     "output_type": "execute_result"
    }
   ],
   "source": [
    "packages.value_counts(dropna=False).describe()"
   ]
  },
  {
   "cell_type": "code",
   "execution_count": 14,
   "metadata": {},
   "outputs": [
    {
     "data": {
      "text/plain": [
       "<matplotlib.axes._subplots.AxesSubplot at 0x7f08090522e8>"
      ]
     },
     "execution_count": 14,
     "metadata": {},
     "output_type": "execute_result"
    },
    {
     "data": {
      "image/png": "[encoded data removed]",
      "text/plain": [
       "<Figure size 432x288 with 1 Axes>"
      ]
     },
     "metadata": {
      "needs_background": "light"
     },
     "output_type": "display_data"
    }
   ],
   "source": [
    "packages.reset_index(drop=True).value_counts(dropna=False).plot()"
   ]
  },
  {
   "cell_type": "markdown",
   "metadata": {},
   "source": [
    "### Apps with >= 1000 users"
   ]
  },
  {
   "cell_type": "code",
   "execution_count": 15,
   "metadata": {},
   "outputs": [
    {
     "data": {
      "text/plain": [
       "<matplotlib.axes._subplots.AxesSubplot at 0x7f0808fc62b0>"
      ]
     },
     "execution_count": 15,
     "metadata": {},
     "output_type": "execute_result"
    },
    {
     "data": {
      "image/png": "[encoded data removed]",
      "text/plain": [
       "<Figure size 432x288 with 1 Axes>"
      ]
     },
     "metadata": {
      "needs_background": "light"
     },
     "output_type": "display_data"
    }
   ],
   "source": [
    "packages1000 = packages.value_counts(dropna=False)\n",
    "packages1000 = packages1000[packages1000 >= 1000]\n",
    "packages1000.plot()"
   ]
  },
  {
   "cell_type": "code",
   "execution_count": 16,
   "metadata": {},
   "outputs": [
    {
     "data": {
      "text/plain": [
       "24"
      ]
     },
     "execution_count": 16,
     "metadata": {},
     "output_type": "execute_result"
    }
   ],
   "source": [
    "len(packages1000)"
   ]
  },
  {
   "cell_type": "code",
   "execution_count": 17,
   "metadata": {},
   "outputs": [
    {
     "data": {
      "text/plain": [
       "com.android.systemui                       3883\n",
       "android                                    3754\n",
       "com.whatsapp                               3591\n",
       "com.android.vending                        3416\n",
       "com.android.providers.downloads            3030\n",
       "com.instagram.android                      2962\n",
       "com.google.android.youtube                 2773\n",
       "com.android.chrome                         2603\n",
       "com.google.android.googlequicksearchbox    2555\n",
       "com.google.android.apps.maps               2381\n",
       "com.facebook.katana                        2217\n",
       "com.google.android.gm                      2125\n",
       "com.samsung.android.incallui               1868\n",
       "com.android.server.telecom                 1867\n",
       "com.facebook.orca                          1832\n",
       "com.sec.android.app.clockpackage           1769\n",
       "com.samsung.android.messaging              1734\n",
       "com.google.android.gms                     1507\n",
       "com.google.android.apps.photos             1466\n",
       "com.google.android.music                   1239\n",
       "com.samsung.android.contacts               1142\n",
       "com.facebook.appmanager                    1069\n",
       "com.sec.android.daemonapp                  1037\n",
       "com.android.mms                            1027\n",
       "Name: PackageName, dtype: int64"
      ]
     },
     "execution_count": 17,
     "metadata": {},
     "output_type": "execute_result"
    }
   ],
   "source": [
    "packages1000"
   ]
  },
  {
   "cell_type": "markdown",
   "metadata": {},
   "source": [
    "### Categories"
   ]
  },
  {
   "cell_type": "code",
   "execution_count": 18,
   "metadata": {},
   "outputs": [
    {
     "data": {
      "text/html": [
       "<div>\n",
       "<style scoped>\n",
       "    .dataframe tbody tr th:only-of-type {\n",
       "        vertical-align: middle;\n",
       "    }\n",
       "\n",
       "    .dataframe tbody tr th {\n",
       "        vertical-align: top;\n",
       "    }\n",
       "\n",
       "    .dataframe thead th {\n",
       "        text-align: right;\n",
       "    }\n",
       "</style>\n",
       "<table border=\"1\" class=\"dataframe\">\n",
       "  <thead>\n",
       "    <tr style=\"text-align: right;\">\n",
       "      <th></th>\n",
       "      <th>PackageName</th>\n",
       "      <th>Count</th>\n",
       "      <th>Category</th>\n",
       "    </tr>\n",
       "  </thead>\n",
       "  <tbody>\n",
       "    <tr>\n",
       "      <th>0</th>\n",
       "      <td>com.android.systemui</td>\n",
       "      <td>3883</td>\n",
       "      <td>SYSTEM</td>\n",
       "    </tr>\n",
       "    <tr>\n",
       "      <th>1</th>\n",
       "      <td>android</td>\n",
       "      <td>3754</td>\n",
       "      <td>SYSTEM</td>\n",
       "    </tr>\n",
       "    <tr>\n",
       "      <th>2</th>\n",
       "      <td>com.whatsapp</td>\n",
       "      <td>3591</td>\n",
       "      <td>SMS/IM</td>\n",
       "    </tr>\n",
       "    <tr>\n",
       "      <th>3</th>\n",
       "      <td>com.android.vending</td>\n",
       "      <td>3416</td>\n",
       "      <td>SYSTEM</td>\n",
       "    </tr>\n",
       "    <tr>\n",
       "      <th>4</th>\n",
       "      <td>com.android.providers.downloads</td>\n",
       "      <td>3030</td>\n",
       "      <td>SYSTEM</td>\n",
       "    </tr>\n",
       "    <tr>\n",
       "      <th>5</th>\n",
       "      <td>com.instagram.android</td>\n",
       "      <td>2962</td>\n",
       "      <td>SOCIAL</td>\n",
       "    </tr>\n",
       "    <tr>\n",
       "      <th>6</th>\n",
       "      <td>com.google.android.youtube</td>\n",
       "      <td>2773</td>\n",
       "      <td>MEDIA</td>\n",
       "    </tr>\n",
       "    <tr>\n",
       "      <th>7</th>\n",
       "      <td>com.android.chrome</td>\n",
       "      <td>2603</td>\n",
       "      <td>TOOL</td>\n",
       "    </tr>\n",
       "    <tr>\n",
       "      <th>8</th>\n",
       "      <td>com.google.android.googlequicksearchbox</td>\n",
       "      <td>2555</td>\n",
       "      <td>TOOL</td>\n",
       "    </tr>\n",
       "    <tr>\n",
       "      <th>9</th>\n",
       "      <td>com.google.android.apps.maps</td>\n",
       "      <td>2381</td>\n",
       "      <td>NAVIGATION</td>\n",
       "    </tr>\n",
       "  </tbody>\n",
       "</table>\n",
       "</div>"
      ],
      "text/plain": [
       "                               PackageName  Count    Category\n",
       "0                     com.android.systemui   3883      SYSTEM\n",
       "1                                  android   3754      SYSTEM\n",
       "2                             com.whatsapp   3591      SMS/IM\n",
       "3                      com.android.vending   3416      SYSTEM\n",
       "4          com.android.providers.downloads   3030      SYSTEM\n",
       "5                    com.instagram.android   2962      SOCIAL\n",
       "6               com.google.android.youtube   2773       MEDIA\n",
       "7                       com.android.chrome   2603        TOOL\n",
       "8  com.google.android.googlequicksearchbox   2555        TOOL\n",
       "9             com.google.android.apps.maps   2381  NAVIGATION"
      ]
     },
     "execution_count": 18,
     "metadata": {},
     "output_type": "execute_result"
    }
   ],
   "source": [
    "counts = pd.DataFrame(packages.value_counts(dropna=False))\n",
    "counts['Count'] = counts.PackageName.astype(int)\n",
    "counts['PackageName'] = counts.index\n",
    "counts['Category'] = counts.PackageName.apply(lambda x: '' if x not in category_mapping else category_mapping[x])\n",
    "counts = counts.sort_values('Count', ascending=False)\n",
    "counts = counts.reset_index(drop=True)\n",
    "counts.head(10)"
   ]
  },
  {
   "cell_type": "code",
   "execution_count": 19,
   "metadata": {},
   "outputs": [
    {
     "data": {
      "text/html": [
       "<div>\n",
       "<style scoped>\n",
       "    .dataframe tbody tr th:only-of-type {\n",
       "        vertical-align: middle;\n",
       "    }\n",
       "\n",
       "    .dataframe tbody tr th {\n",
       "        vertical-align: top;\n",
       "    }\n",
       "\n",
       "    .dataframe thead th {\n",
       "        text-align: right;\n",
       "    }\n",
       "</style>\n",
       "<table border=\"1\" class=\"dataframe\">\n",
       "  <thead>\n",
       "    <tr style=\"text-align: right;\">\n",
       "      <th></th>\n",
       "      <th>PackageName</th>\n",
       "      <th>Count</th>\n",
       "      <th>Category</th>\n",
       "    </tr>\n",
       "  </thead>\n",
       "  <tbody>\n",
       "    <tr>\n",
       "      <th>8818</th>\n",
       "      <td>package.5909</td>\n",
       "      <td>1</td>\n",
       "      <td>UNKNOWN</td>\n",
       "    </tr>\n",
       "    <tr>\n",
       "      <th>8819</th>\n",
       "      <td>package.6307</td>\n",
       "      <td>1</td>\n",
       "      <td>UNKNOWN</td>\n",
       "    </tr>\n",
       "    <tr>\n",
       "      <th>8820</th>\n",
       "      <td>package.5312</td>\n",
       "      <td>1</td>\n",
       "      <td>UNKNOWN</td>\n",
       "    </tr>\n",
       "    <tr>\n",
       "      <th>8821</th>\n",
       "      <td>package.4801</td>\n",
       "      <td>1</td>\n",
       "      <td>UNKNOWN</td>\n",
       "    </tr>\n",
       "    <tr>\n",
       "      <th>8822</th>\n",
       "      <td>package.3580</td>\n",
       "      <td>1</td>\n",
       "      <td>UNKNOWN</td>\n",
       "    </tr>\n",
       "  </tbody>\n",
       "</table>\n",
       "</div>"
      ],
      "text/plain": [
       "       PackageName  Count Category\n",
       "8818  package.5909      1  UNKNOWN\n",
       "8819  package.6307      1  UNKNOWN\n",
       "8820  package.5312      1  UNKNOWN\n",
       "8821  package.4801      1  UNKNOWN\n",
       "8822  package.3580      1  UNKNOWN"
      ]
     },
     "execution_count": 19,
     "metadata": {},
     "output_type": "execute_result"
    }
   ],
   "source": [
    "counts.tail(5)"
   ]
  },
  {
   "cell_type": "code",
   "execution_count": 20,
   "metadata": {},
   "outputs": [
    {
     "name": "stdout",
     "output_type": "stream",
     "text": [
      "Apps with >=   10 users: 908\n",
      "Apps with >=  100 users: 134\n",
      "Apps with >= 1000 users:  24\n"
     ]
    }
   ],
   "source": [
    "print('Apps with >=   10 users: %3d' % len(counts[counts.Count >= 10]))\n",
    "print('Apps with >=  100 users: %3d' % len(counts[counts.Count >= 100]))\n",
    "print('Apps with >= 1000 users: %3d' % len(counts[counts.Count >= 1000]))"
   ]
  },
  {
   "cell_type": "code",
   "execution_count": 21,
   "metadata": {},
   "outputs": [
    {
     "data": {
      "text/plain": [
       "'Apps with only one user: 4962'"
      ]
     },
     "execution_count": 21,
     "metadata": {},
     "output_type": "execute_result"
    }
   ],
   "source": [
    "'Apps with only one user: %d' % len(counts[counts.Count == 1])"
   ]
  },
  {
   "cell_type": "code",
   "execution_count": 22,
   "metadata": {},
   "outputs": [
    {
     "name": "stdout",
     "output_type": "stream",
     "text": [
      "Median number of users per category:\n",
      "\n"
     ]
    },
    {
     "data": {
      "text/plain": [
       "Category\n",
       "CALENDAR/REMINDER     43.0\n",
       "EMAIL                 24.5\n",
       "GAME                  19.0\n",
       "HEALTH/FITNESS        17.5\n",
       "MEDIA                 24.5\n",
       "NAVIGATION            18.5\n",
       "NEWS                  18.0\n",
       "PHONE                133.0\n",
       "SHOPPING              21.0\n",
       "SMS/IM                42.0\n",
       "SOCIAL                35.5\n",
       "SYSTEM                32.0\n",
       "TOOL                  21.5\n",
       "UNKNOWN                1.0\n",
       "Name: Count, dtype: float64"
      ]
     },
     "execution_count": 22,
     "metadata": {},
     "output_type": "execute_result"
    }
   ],
   "source": [
    "print('Median number of users per category:\\n')\n",
    "counts.groupby('Category').Count.agg(np.median)"
   ]
  },
  {
   "cell_type": "markdown",
   "metadata": {},
   "source": [
    "### Plot users per app"
   ]
  },
  {
   "cell_type": "code",
   "execution_count": 23,
   "metadata": {},
   "outputs": [
    {
     "data": {
      "image/png": "[encoded data removed]",
      "text/plain": [
       "<Figure size 432x288 with 1 Axes>"
      ]
     },
     "metadata": {
      "needs_background": "light"
     },
     "output_type": "display_data"
    }
   ],
   "source": [
    "threshold = 10\n",
    "\n",
    "ax = counts.Count.plot(\n",
    "    figsize=(6, 4),\n",
    "    legend=True,\n",
    "    grid=True\n",
    ")\n",
    "\n",
    "ax.set_yscale('log')\n",
    "\n",
    "# Grid\n",
    "ax.set_axisbelow(True)\n",
    "ax.xaxis.grid(alpha=0.2, linestyle='dashed')\n",
    "ax.yaxis.grid(alpha=0.2, linestyle='dashed')\n",
    "\n",
    "# Span and threshold\n",
    "ax.axvspan(0, 907, color='#539caf', alpha=0.2, hatch='/', rasterized=True)\n",
    "ax.axhline(threshold, color='r', linestyle='-', alpha=0.4)\n",
    "\n",
    "# Tweak font sizes\n",
    "ax.set_xlabel('Apps', fontsize=10)\n",
    "ax.set_ylabel('Number of users', fontsize=10)\n",
    "ax.tick_params(labelsize=10)\n",
    "\n",
    "# Legend\n",
    "handles, labels = ax.get_legend_handles_labels()\n",
    "ax.legend(handles=handles+[\n",
    "    patches.Patch(color='#539caf', alpha=0.2, hatch='///', rasterized=True),\n",
    "    #mlines.Line2D([], [], color='r', alpha=0.8)\n",
    "], labels=[\n",
    "    'Number of users per app',\n",
    "    'Categorized apps ($\\geq10$ users)',\n",
    "    #'Threshold (10 users)'\n",
    "], loc='upper right', prop={'size': 10})\n",
    "\n",
    "plt.savefig('figures/users_per_app.png', bbox_inches='tight', pad_inches=0, dpi=300)\n",
    "plt.savefig('figures/users_per_app.pdf', bbox_inches='tight', pad_inches=0)\n",
    "\n",
    "plt.show()"
   ]
  },
  {
   "cell_type": "code",
   "execution_count": null,
   "metadata": {},
   "outputs": [],
   "source": []
  },
  {
   "cell_type": "code",
   "execution_count": null,
   "metadata": {},
   "outputs": [],
   "source": []
  },
  {
   "cell_type": "code",
   "execution_count": null,
   "metadata": {},
   "outputs": [],
   "source": []
  }
 ],
 "metadata": {
  "kernelspec": {
   "display_name": "Python 3",
   "language": "python",
   "name": "python3"
  },
  "language_info": {
   "codemirror_mode": {
    "name": "ipython",
    "version": 3
   },
   "file_extension": ".py",
   "mimetype": "text/x-python",
   "name": "python",
   "nbconvert_exporter": "python",
   "pygments_lexer": "ipython3",
   "version": "3.6.7"
  }
 },
 "nbformat": 4,
 "nbformat_minor": 2
}
