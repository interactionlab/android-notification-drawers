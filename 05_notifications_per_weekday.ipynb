{
 "cells": [
  {
   "cell_type": "code",
   "execution_count": 1,
   "metadata": {},
   "outputs": [],
   "source": [
    "import pandas as pd\n",
    "import numpy as np\n",
    "import matplotlib.pyplot as plt\n",
    "import matplotlib.patches as patches\n",
    "import os\n",
    "import itertools\n",
    "\n",
    "from multiprocessing import Pool"
   ]
  },
  {
   "cell_type": "code",
   "execution_count": 2,
   "metadata": {},
   "outputs": [],
   "source": [
    "%run config.py\n",
    "%run shared.py"
   ]
  },
  {
   "cell_type": "code",
   "execution_count": 3,
   "metadata": {},
   "outputs": [],
   "source": [
    "valid = pd.read_pickle(PATH_VALID_DEVICES)"
   ]
  },
  {
   "cell_type": "markdown",
   "metadata": {},
   "source": [
    "# Notifications per weekday"
   ]
  },
  {
   "cell_type": "markdown",
   "metadata": {},
   "source": [
    "**RQ:** How many notifications are in the notification drawer per weekday?"
   ]
  },
  {
   "cell_type": "code",
   "execution_count": 4,
   "metadata": {},
   "outputs": [],
   "source": [
    "def worker_active_notifications_per_weekday(uuid):\n",
    "    df = pd.read_pickle('%s%s.pkl.gz' % (PATH_DEVICES_DIR, uuid), compression='gzip')\n",
    "    result = pd.DataFrame(columns=[h for h in range(0, 7)])\n",
    "    d = {}\n",
    "    for day in result.columns:\n",
    "        d[day] = df[df.LocalTime.dt.weekday == day].Active.apply(filter_active).apply(len).mean()\n",
    "    return result.append(d, ignore_index=True)"
   ]
  },
  {
   "cell_type": "code",
   "execution_count": 5,
   "metadata": {},
   "outputs": [
    {
     "data": {
      "text/html": [
       "<div>\n",
       "<style scoped>\n",
       "    .dataframe tbody tr th:only-of-type {\n",
       "        vertical-align: middle;\n",
       "    }\n",
       "\n",
       "    .dataframe tbody tr th {\n",
       "        vertical-align: top;\n",
       "    }\n",
       "\n",
       "    .dataframe thead th {\n",
       "        text-align: right;\n",
       "    }\n",
       "</style>\n",
       "<table border=\"1\" class=\"dataframe\">\n",
       "  <thead>\n",
       "    <tr style=\"text-align: right;\">\n",
       "      <th></th>\n",
       "      <th>0</th>\n",
       "      <th>1</th>\n",
       "      <th>2</th>\n",
       "      <th>3</th>\n",
       "      <th>4</th>\n",
       "      <th>5</th>\n",
       "      <th>6</th>\n",
       "    </tr>\n",
       "  </thead>\n",
       "  <tbody>\n",
       "    <tr>\n",
       "      <th>3948</th>\n",
       "      <td>0.438819</td>\n",
       "      <td>0.533654</td>\n",
       "      <td>0.423423</td>\n",
       "      <td>0.885593</td>\n",
       "      <td>0.665584</td>\n",
       "      <td>1.070539</td>\n",
       "      <td>0.820000</td>\n",
       "    </tr>\n",
       "    <tr>\n",
       "      <th>3949</th>\n",
       "      <td>0.910256</td>\n",
       "      <td>0.636364</td>\n",
       "      <td>1.023256</td>\n",
       "      <td>0.614286</td>\n",
       "      <td>1.252874</td>\n",
       "      <td>0.845161</td>\n",
       "      <td>1.097143</td>\n",
       "    </tr>\n",
       "    <tr>\n",
       "      <th>3950</th>\n",
       "      <td>16.761658</td>\n",
       "      <td>17.236486</td>\n",
       "      <td>16.019512</td>\n",
       "      <td>14.595813</td>\n",
       "      <td>16.022075</td>\n",
       "      <td>18.025743</td>\n",
       "      <td>19.060391</td>\n",
       "    </tr>\n",
       "    <tr>\n",
       "      <th>3951</th>\n",
       "      <td>1.696154</td>\n",
       "      <td>2.437736</td>\n",
       "      <td>1.996154</td>\n",
       "      <td>1.269388</td>\n",
       "      <td>2.079245</td>\n",
       "      <td>2.160920</td>\n",
       "      <td>2.984375</td>\n",
       "    </tr>\n",
       "    <tr>\n",
       "      <th>3952</th>\n",
       "      <td>0.953488</td>\n",
       "      <td>0.295699</td>\n",
       "      <td>0.851351</td>\n",
       "      <td>0.600000</td>\n",
       "      <td>0.397790</td>\n",
       "      <td>1.235955</td>\n",
       "      <td>0.625000</td>\n",
       "    </tr>\n",
       "  </tbody>\n",
       "</table>\n",
       "</div>"
      ],
      "text/plain": [
       "              0          1          2          3          4          5  \\\n",
       "3948   0.438819   0.533654   0.423423   0.885593   0.665584   1.070539   \n",
       "3949   0.910256   0.636364   1.023256   0.614286   1.252874   0.845161   \n",
       "3950  16.761658  17.236486  16.019512  14.595813  16.022075  18.025743   \n",
       "3951   1.696154   2.437736   1.996154   1.269388   2.079245   2.160920   \n",
       "3952   0.953488   0.295699   0.851351   0.600000   0.397790   1.235955   \n",
       "\n",
       "              6  \n",
       "3948   0.820000  \n",
       "3949   1.097143  \n",
       "3950  19.060391  \n",
       "3951   2.984375  \n",
       "3952   0.625000  "
      ]
     },
     "execution_count": 5,
     "metadata": {},
     "output_type": "execute_result"
    }
   ],
   "source": [
    "uuids = valid.UUID.tolist()\n",
    "\n",
    "p = Pool(NUM_CORES)\n",
    "lst = p.map(worker_active_notifications_per_weekday, uuids)\n",
    "\n",
    "weekday = pd.concat(lst)\n",
    "weekday = weekday.reset_index(drop=True)\n",
    "weekday.tail()"
   ]
  },
  {
   "cell_type": "code",
   "execution_count": 6,
   "metadata": {},
   "outputs": [
    {
     "data": {
      "text/html": [
       "<div>\n",
       "<style scoped>\n",
       "    .dataframe tbody tr th:only-of-type {\n",
       "        vertical-align: middle;\n",
       "    }\n",
       "\n",
       "    .dataframe tbody tr th {\n",
       "        vertical-align: top;\n",
       "    }\n",
       "\n",
       "    .dataframe thead th {\n",
       "        text-align: right;\n",
       "    }\n",
       "</style>\n",
       "<table border=\"1\" class=\"dataframe\">\n",
       "  <thead>\n",
       "    <tr style=\"text-align: right;\">\n",
       "      <th></th>\n",
       "      <th>0</th>\n",
       "      <th>1</th>\n",
       "      <th>2</th>\n",
       "      <th>3</th>\n",
       "      <th>4</th>\n",
       "      <th>5</th>\n",
       "      <th>6</th>\n",
       "    </tr>\n",
       "  </thead>\n",
       "  <tbody>\n",
       "    <tr>\n",
       "      <th>count</th>\n",
       "      <td>3953.000000</td>\n",
       "      <td>3953.000000</td>\n",
       "      <td>3953.000000</td>\n",
       "      <td>3953.000000</td>\n",
       "      <td>3953.000000</td>\n",
       "      <td>3953.000000</td>\n",
       "      <td>3953.000000</td>\n",
       "    </tr>\n",
       "    <tr>\n",
       "      <th>mean</th>\n",
       "      <td>3.357783</td>\n",
       "      <td>3.387484</td>\n",
       "      <td>3.390015</td>\n",
       "      <td>3.453283</td>\n",
       "      <td>3.484108</td>\n",
       "      <td>3.406732</td>\n",
       "      <td>3.315730</td>\n",
       "    </tr>\n",
       "    <tr>\n",
       "      <th>std</th>\n",
       "      <td>4.716509</td>\n",
       "      <td>4.624591</td>\n",
       "      <td>4.746775</td>\n",
       "      <td>5.036763</td>\n",
       "      <td>5.113892</td>\n",
       "      <td>4.782215</td>\n",
       "      <td>4.590875</td>\n",
       "    </tr>\n",
       "    <tr>\n",
       "      <th>min</th>\n",
       "      <td>0.000000</td>\n",
       "      <td>0.000000</td>\n",
       "      <td>0.000000</td>\n",
       "      <td>0.000000</td>\n",
       "      <td>0.000000</td>\n",
       "      <td>0.000000</td>\n",
       "      <td>0.000000</td>\n",
       "    </tr>\n",
       "    <tr>\n",
       "      <th>25%</th>\n",
       "      <td>1.184783</td>\n",
       "      <td>1.173333</td>\n",
       "      <td>1.199387</td>\n",
       "      <td>1.205240</td>\n",
       "      <td>1.237113</td>\n",
       "      <td>1.200000</td>\n",
       "      <td>1.151862</td>\n",
       "    </tr>\n",
       "    <tr>\n",
       "      <th>50%</th>\n",
       "      <td>2.110124</td>\n",
       "      <td>2.154135</td>\n",
       "      <td>2.104478</td>\n",
       "      <td>2.161290</td>\n",
       "      <td>2.184080</td>\n",
       "      <td>2.131234</td>\n",
       "      <td>2.079365</td>\n",
       "    </tr>\n",
       "    <tr>\n",
       "      <th>75%</th>\n",
       "      <td>3.609375</td>\n",
       "      <td>3.724734</td>\n",
       "      <td>3.725067</td>\n",
       "      <td>3.787234</td>\n",
       "      <td>3.841860</td>\n",
       "      <td>3.812057</td>\n",
       "      <td>3.663551</td>\n",
       "    </tr>\n",
       "    <tr>\n",
       "      <th>max</th>\n",
       "      <td>59.034483</td>\n",
       "      <td>61.308696</td>\n",
       "      <td>67.847328</td>\n",
       "      <td>103.000000</td>\n",
       "      <td>127.283688</td>\n",
       "      <td>75.337209</td>\n",
       "      <td>61.623037</td>\n",
       "    </tr>\n",
       "  </tbody>\n",
       "</table>\n",
       "</div>"
      ],
      "text/plain": [
       "                 0            1            2            3            4  \\\n",
       "count  3953.000000  3953.000000  3953.000000  3953.000000  3953.000000   \n",
       "mean      3.357783     3.387484     3.390015     3.453283     3.484108   \n",
       "std       4.716509     4.624591     4.746775     5.036763     5.113892   \n",
       "min       0.000000     0.000000     0.000000     0.000000     0.000000   \n",
       "25%       1.184783     1.173333     1.199387     1.205240     1.237113   \n",
       "50%       2.110124     2.154135     2.104478     2.161290     2.184080   \n",
       "75%       3.609375     3.724734     3.725067     3.787234     3.841860   \n",
       "max      59.034483    61.308696    67.847328   103.000000   127.283688   \n",
       "\n",
       "                 5            6  \n",
       "count  3953.000000  3953.000000  \n",
       "mean      3.406732     3.315730  \n",
       "std       4.782215     4.590875  \n",
       "min       0.000000     0.000000  \n",
       "25%       1.200000     1.151862  \n",
       "50%       2.131234     2.079365  \n",
       "75%       3.812057     3.663551  \n",
       "max      75.337209    61.623037  "
      ]
     },
     "execution_count": 6,
     "metadata": {},
     "output_type": "execute_result"
    }
   ],
   "source": [
    "weekday.describe()"
   ]
  },
  {
   "cell_type": "code",
   "execution_count": 7,
   "metadata": {},
   "outputs": [
    {
     "data": {
      "text/plain": [
       "0    3.357783\n",
       "1    3.387484\n",
       "2    3.390015\n",
       "3    3.453283\n",
       "4    3.484108\n",
       "5    3.406732\n",
       "6    3.315730\n",
       "dtype: float64"
      ]
     },
     "execution_count": 7,
     "metadata": {},
     "output_type": "execute_result"
    }
   ],
   "source": [
    "weekday.mean()"
   ]
  },
  {
   "cell_type": "code",
   "execution_count": 8,
   "metadata": {},
   "outputs": [
    {
     "data": {
      "text/plain": [
       "6    3.315730\n",
       "0    3.357783\n",
       "1    3.387484\n",
       "2    3.390015\n",
       "5    3.406732\n",
       "3    3.453283\n",
       "4    3.484108\n",
       "dtype: float64"
      ]
     },
     "execution_count": 8,
     "metadata": {},
     "output_type": "execute_result"
    }
   ],
   "source": [
    "weekday.mean().sort_values()"
   ]
  },
  {
   "cell_type": "code",
   "execution_count": 9,
   "metadata": {},
   "outputs": [
    {
     "name": "stdout",
     "output_type": "stream",
     "text": [
      "Notifications per weekday:\n",
      "M  = 3.4\n",
      "SD = 4.8\n",
      "Md = 2.13\n"
     ]
    }
   ],
   "source": [
    "print('Notifications per weekday:')\n",
    "print('M  = %s' % np.round(weekday.mean().mean(), 2))\n",
    "print('SD = %s' % np.round(weekday.std().mean(), 2))\n",
    "print('Md = %s' % np.round(weekday.median().mean(), 2))"
   ]
  },
  {
   "cell_type": "code",
   "execution_count": 10,
   "metadata": {},
   "outputs": [
    {
     "data": {
      "image/png": "[encoded data removed]",
      "text/plain": [
       "<Figure size 432x288 with 1 Axes>"
      ]
     },
     "metadata": {
      "needs_background": "light"
     },
     "output_type": "display_data"
    }
   ],
   "source": [
    "ax = weekday.fillna(0).boxplot(\n",
    "    showfliers=False,\n",
    "    figsize=(6, 4)\n",
    ")\n",
    "\n",
    "# Ticks\n",
    "ax.set_yticks(range(0, 11, 1))\n",
    "ax.set_yticklabels([x if x % 2 == 0 else '' for x in range(0, 11, 1)])\n",
    "ax.set_xticklabels(['Mon', 'Tue', 'Wed', 'Thu', 'Fri', 'Sat', 'Sun'])\n",
    "\n",
    "# Grid\n",
    "ax.set_axisbelow(True)\n",
    "ax.xaxis.grid(alpha=0.0, linestyle='dashed')\n",
    "ax.yaxis.grid(alpha=0.2, linestyle='dashed')\n",
    "\n",
    "# Tweak font sizes\n",
    "#ax.set_xlabel('Mean', fontsize=10)\n",
    "ax.set_ylabel('Mean Notifications (Grouped)', fontsize=10)\n",
    "ax.tick_params(labelsize=10)\n",
    "\n",
    "plt.savefig('figures/mean_active_boxplot_weekdays.png', bbox_inches='tight', pad_inches=0, dpi=300)\n",
    "plt.savefig('figures/mean_active_boxplot_weekdays.pdf', bbox_inches='tight', pad_inches=0)\n",
    "\n",
    "plt.show()"
   ]
  },
  {
   "cell_type": "code",
   "execution_count": 11,
   "metadata": {},
   "outputs": [
    {
     "data": {
      "image/png": "[encoded data removed]",
      "text/plain": [
       "<Figure size 432x288 with 1 Axes>"
      ]
     },
     "metadata": {
      "needs_background": "light"
     },
     "output_type": "display_data"
    }
   ],
   "source": [
    "ax = weekday.fillna(0).mean(axis=0).plot(\n",
    "    kind='line',\n",
    "    xlim=(0, 6),\n",
    "    xticks=range(0, 7, 1),\n",
    "    yticks=range(0, 7, 1),\n",
    "    ylim=(0, 5),\n",
    "    figsize=(6, 4),\n",
    "    legend=True,\n",
    "    grid=True)\n",
    "\n",
    "# Ticks\n",
    "ax.set_xticks(range(0, 7, 1))\n",
    "ax.set_xticklabels(['Mon', 'Tue', 'Wed', 'Thu', 'Fri', 'Sat', 'Sun'])\n",
    "ax.set_yticks(range(0, 6, 1))\n",
    "\n",
    "# Grid\n",
    "ax.set_axisbelow(True)\n",
    "ax.xaxis.grid(alpha=0.2, linestyle='dashed')\n",
    "ax.yaxis.grid(alpha=0.2, linestyle='dashed')\n",
    "\n",
    "# Tweak font sizes\n",
    "ax.set_xlabel('Weekday', fontsize=10)\n",
    "ax.set_ylabel('Mean Notifications (Grouped)', fontsize=10)\n",
    "ax.tick_params(labelsize=10)\n",
    "\n",
    "# Quantiles\n",
    "ax.fill_between(range(0, 7),\n",
    "                [weekday.fillna(0)[x].quantile(.25) for x in weekday.fillna(0).columns],\n",
    "                [weekday.fillna(0)[x].quantile(.75) for x in weekday.fillna(0).columns],\n",
    "                color='#539caf',\n",
    "                alpha=0.2,\n",
    "                zorder=100,\n",
    "                hatch='/')\n",
    "\n",
    "# Std\n",
    "# ax.fill_between(range(0, 24),\n",
    "#                 [weekday.fillna(0)[x].mean() - weekday.fillna(0)[x].std() for x in weekday.fillna(0).columns],\n",
    "#                 [weekday.fillna(0)[x].mean() + weekday.fillna(0)[x].std() for x in weekday.fillna(0).columns],\n",
    "#                 color='#539caf',\n",
    "#                 alpha=0.2)\n",
    "\n",
    "# Overall mean\n",
    "#ax.axhline(weekday.mean().mean(), color='r', linestyle='--')\n",
    "\n",
    "# Legend\n",
    "handles, labels = ax.get_legend_handles_labels()\n",
    "ax.legend(handles=handles+[patches.Patch(color='#539caf', hatch='///', alpha=0.2)],\n",
    "          labels=['Mean', '25th/75th Percentile'],\n",
    "          loc='center',\n",
    "          bbox_to_anchor=(0.5, 1.1),\n",
    "          ncol=3, \n",
    "          prop={'size': 10})\n",
    "\n",
    "plt.savefig('figures/mean_notifications_per_weekday.png', bbox_inches='tight', pad_inches=0, dpi=300)\n",
    "plt.savefig('figures/mean_notifications_per_weekday.pdf', bbox_inches='tight', pad_inches=0)\n",
    "\n",
    "plt.show()"
   ]
  },
  {
   "cell_type": "code",
   "execution_count": null,
   "metadata": {},
   "outputs": [],
   "source": []
  },
  {
   "cell_type": "code",
   "execution_count": null,
   "metadata": {},
   "outputs": [],
   "source": []
  },
  {
   "cell_type": "code",
   "execution_count": null,
   "metadata": {},
   "outputs": [],
   "source": []
  }
 ],
 "metadata": {
  "kernelspec": {
   "display_name": "Python 3",
   "language": "python",
   "name": "python3"
  },
  "language_info": {
   "codemirror_mode": {
    "name": "ipython",
    "version": 3
   },
   "file_extension": ".py",
   "mimetype": "text/x-python",
   "name": "python",
   "nbconvert_exporter": "python",
   "pygments_lexer": "ipython3",
   "version": "3.6.7"
  }
 },
 "nbformat": 4,
 "nbformat_minor": 2
}
