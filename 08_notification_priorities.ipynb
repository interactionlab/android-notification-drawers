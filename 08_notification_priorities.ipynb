{
 "cells": [
  {
   "cell_type": "code",
   "execution_count": 1,
   "metadata": {},
   "outputs": [],
   "source": [
    "import pandas as pd\n",
    "import numpy as np\n",
    "import matplotlib.pyplot as plt\n",
    "import matplotlib.patches as patches\n",
    "import matplotlib.lines as mlines\n",
    "import os\n",
    "import itertools\n",
    "\n",
    "from multiprocessing import Pool"
   ]
  },
  {
   "cell_type": "code",
   "execution_count": 2,
   "metadata": {},
   "outputs": [],
   "source": [
    "%run config.py\n",
    "%run shared.py"
   ]
  },
  {
   "cell_type": "code",
   "execution_count": 3,
   "metadata": {},
   "outputs": [],
   "source": [
    "valid = pd.read_pickle(PATH_VALID_DEVICES)"
   ]
  },
  {
   "cell_type": "markdown",
   "metadata": {},
   "source": [
    "# Notification priorities"
   ]
  },
  {
   "cell_type": "markdown",
   "metadata": {},
   "source": [
    "**RQ:** What are the priority values for the unique notifications?"
   ]
  },
  {
   "cell_type": "code",
   "execution_count": 4,
   "metadata": {},
   "outputs": [],
   "source": [
    "priority_map = {\n",
    "    -2: 'PRIORITY_MIN',\n",
    "    -1: 'PRIORITY_LOW',\n",
    "    0:  'PRIORITY_DEFAULT',\n",
    "    1:  'PRIORITY_HIGH',\n",
    "    2:  'PRIORITY_MAX'\n",
    "}"
   ]
  },
  {
   "cell_type": "markdown",
   "metadata": {},
   "source": [
    "## Priorities per notification"
   ]
  },
  {
   "cell_type": "code",
   "execution_count": 5,
   "metadata": {},
   "outputs": [],
   "source": [
    "def get_priority_values(lst):\n",
    "    result = []\n",
    "    for n in lst:\n",
    "        priority = n['priority']\n",
    "        priority = min(2, priority)\n",
    "        priority = max(-2, priority)\n",
    "        result.append({\n",
    "            'PackageName': n['packageName'],\n",
    "            'Id': n['key'] + '@' + str(n['postTime']),\n",
    "            'Priority': priority\n",
    "        })\n",
    "    return result\n",
    "\n",
    "def worker_priorities(uuid):        \n",
    "    df = pd.read_pickle('%s%s.pkl.gz' % (PATH_DEVICES_DIR, uuid), compression='gzip')\n",
    "    \n",
    "    result = df.Active.apply(get_priority_values).tolist()\n",
    "    result = list(itertools.chain(*result))\n",
    "    result = pd.DataFrame(result)\n",
    "    result = result.groupby('Id', as_index=False).agg(list)\n",
    "    result.Priority = result.Priority.apply(lambda x: x[-1])\n",
    "    result.PackageName = result.PackageName.apply(lambda x: x[-1])\n",
    "    \n",
    "    result['UUID'] = uuid\n",
    "    return result"
   ]
  },
  {
   "cell_type": "code",
   "execution_count": 6,
   "metadata": {
    "scrolled": false
   },
   "outputs": [
    {
     "data": {
      "text/html": [
       "<div>\n",
       "<style scoped>\n",
       "    .dataframe tbody tr th:only-of-type {\n",
       "        vertical-align: middle;\n",
       "    }\n",
       "\n",
       "    .dataframe tbody tr th {\n",
       "        vertical-align: top;\n",
       "    }\n",
       "\n",
       "    .dataframe thead th {\n",
       "        text-align: right;\n",
       "    }\n",
       "</style>\n",
       "<table border=\"1\" class=\"dataframe\">\n",
       "  <thead>\n",
       "    <tr style=\"text-align: right;\">\n",
       "      <th></th>\n",
       "      <th>Id</th>\n",
       "      <th>PackageName</th>\n",
       "      <th>Priority</th>\n",
       "      <th>UUID</th>\n",
       "    </tr>\n",
       "  </thead>\n",
       "  <tbody>\n",
       "    <tr>\n",
       "      <th>10928875</th>\n",
       "      <td>key.1437644@1541624736895</td>\n",
       "      <td>com.android.systemui</td>\n",
       "      <td>-2</td>\n",
       "      <td>device.3952</td>\n",
       "    </tr>\n",
       "    <tr>\n",
       "      <th>10928876</th>\n",
       "      <td>key.1437644@1541769638374</td>\n",
       "      <td>com.android.systemui</td>\n",
       "      <td>-2</td>\n",
       "      <td>device.3952</td>\n",
       "    </tr>\n",
       "    <tr>\n",
       "      <th>10928877</th>\n",
       "      <td>key.1437645@1541523629135</td>\n",
       "      <td>com.android.vending</td>\n",
       "      <td>-1</td>\n",
       "      <td>device.3952</td>\n",
       "    </tr>\n",
       "    <tr>\n",
       "      <th>10928878</th>\n",
       "      <td>key.1437645@1541696878386</td>\n",
       "      <td>com.android.vending</td>\n",
       "      <td>-1</td>\n",
       "      <td>device.3952</td>\n",
       "    </tr>\n",
       "    <tr>\n",
       "      <th>10928879</th>\n",
       "      <td>key.1437646@1541608219788</td>\n",
       "      <td>wp.wattpad</td>\n",
       "      <td>0</td>\n",
       "      <td>device.3952</td>\n",
       "    </tr>\n",
       "  </tbody>\n",
       "</table>\n",
       "</div>"
      ],
      "text/plain": [
       "                                 Id           PackageName  Priority  \\\n",
       "10928875  key.1437644@1541624736895  com.android.systemui        -2   \n",
       "10928876  key.1437644@1541769638374  com.android.systemui        -2   \n",
       "10928877  key.1437645@1541523629135   com.android.vending        -1   \n",
       "10928878  key.1437645@1541696878386   com.android.vending        -1   \n",
       "10928879  key.1437646@1541608219788            wp.wattpad         0   \n",
       "\n",
       "                 UUID  \n",
       "10928875  device.3952  \n",
       "10928876  device.3952  \n",
       "10928877  device.3952  \n",
       "10928878  device.3952  \n",
       "10928879  device.3952  "
      ]
     },
     "execution_count": 6,
     "metadata": {},
     "output_type": "execute_result"
    }
   ],
   "source": [
    "uuids = valid.UUID.tolist()\n",
    "\n",
    "p = Pool(NUM_CORES)\n",
    "lst = p.map(worker_priorities, uuids)\n",
    "\n",
    "priority = pd.concat(lst)\n",
    "priority = priority.reset_index(drop=True)\n",
    "priority.tail()"
   ]
  },
  {
   "cell_type": "code",
   "execution_count": 7,
   "metadata": {},
   "outputs": [
    {
     "data": {
      "text/plain": [
       "3953"
      ]
     },
     "execution_count": 7,
     "metadata": {},
     "output_type": "execute_result"
    }
   ],
   "source": [
    "len(priority.UUID.unique())"
   ]
  },
  {
   "cell_type": "code",
   "execution_count": 8,
   "metadata": {},
   "outputs": [
    {
     "data": {
      "text/plain": [
       "10928880"
      ]
     },
     "execution_count": 8,
     "metadata": {},
     "output_type": "execute_result"
    }
   ],
   "source": [
    "len(priority)"
   ]
  },
  {
   "cell_type": "markdown",
   "metadata": {},
   "source": [
    "## Priority stats"
   ]
  },
  {
   "cell_type": "code",
   "execution_count": 9,
   "metadata": {},
   "outputs": [
    {
     "data": {
      "text/plain": [
       "-2    1255475\n",
       "-1     258295\n",
       " 0    7006687\n",
       " 1    1311672\n",
       " 2    1096751\n",
       "Name: Priority, dtype: int64"
      ]
     },
     "execution_count": 9,
     "metadata": {},
     "output_type": "execute_result"
    }
   ],
   "source": [
    "priority.Priority.value_counts(dropna=False).sort_index()"
   ]
  },
  {
   "cell_type": "code",
   "execution_count": 10,
   "metadata": {},
   "outputs": [
    {
     "data": {
      "text/plain": [
       "<matplotlib.axes._subplots.AxesSubplot at 0x7f59b80dcdd8>"
      ]
     },
     "execution_count": 10,
     "metadata": {},
     "output_type": "execute_result"
    },
    {
     "data": {
      "image/png": "[encoded data removed]",
      "text/plain": [
       "<Figure size 432x288 with 1 Axes>"
      ]
     },
     "metadata": {
      "needs_background": "light"
     },
     "output_type": "display_data"
    }
   ],
   "source": [
    "priority.Priority.value_counts().sort_index().plot(kind='bar')"
   ]
  },
  {
   "cell_type": "markdown",
   "metadata": {},
   "source": [
    "## Add packages and categories"
   ]
  },
  {
   "cell_type": "code",
   "execution_count": 11,
   "metadata": {},
   "outputs": [
    {
     "data": {
      "text/html": [
       "<div>\n",
       "<style scoped>\n",
       "    .dataframe tbody tr th:only-of-type {\n",
       "        vertical-align: middle;\n",
       "    }\n",
       "\n",
       "    .dataframe tbody tr th {\n",
       "        vertical-align: top;\n",
       "    }\n",
       "\n",
       "    .dataframe thead th {\n",
       "        text-align: right;\n",
       "    }\n",
       "</style>\n",
       "<table border=\"1\" class=\"dataframe\">\n",
       "  <thead>\n",
       "    <tr style=\"text-align: right;\">\n",
       "      <th></th>\n",
       "      <th>Id</th>\n",
       "      <th>PackageName</th>\n",
       "      <th>Priority</th>\n",
       "      <th>UUID</th>\n",
       "      <th>Category</th>\n",
       "    </tr>\n",
       "  </thead>\n",
       "  <tbody>\n",
       "    <tr>\n",
       "      <th>10928875</th>\n",
       "      <td>key.1437644@1541624736895</td>\n",
       "      <td>com.android.systemui</td>\n",
       "      <td>-2</td>\n",
       "      <td>device.3952</td>\n",
       "      <td>SYSTEM</td>\n",
       "    </tr>\n",
       "    <tr>\n",
       "      <th>10928876</th>\n",
       "      <td>key.1437644@1541769638374</td>\n",
       "      <td>com.android.systemui</td>\n",
       "      <td>-2</td>\n",
       "      <td>device.3952</td>\n",
       "      <td>SYSTEM</td>\n",
       "    </tr>\n",
       "    <tr>\n",
       "      <th>10928877</th>\n",
       "      <td>key.1437645@1541523629135</td>\n",
       "      <td>com.android.vending</td>\n",
       "      <td>-1</td>\n",
       "      <td>device.3952</td>\n",
       "      <td>SYSTEM</td>\n",
       "    </tr>\n",
       "    <tr>\n",
       "      <th>10928878</th>\n",
       "      <td>key.1437645@1541696878386</td>\n",
       "      <td>com.android.vending</td>\n",
       "      <td>-1</td>\n",
       "      <td>device.3952</td>\n",
       "      <td>SYSTEM</td>\n",
       "    </tr>\n",
       "    <tr>\n",
       "      <th>10928879</th>\n",
       "      <td>key.1437646@1541608219788</td>\n",
       "      <td>wp.wattpad</td>\n",
       "      <td>0</td>\n",
       "      <td>device.3952</td>\n",
       "      <td>MEDIA</td>\n",
       "    </tr>\n",
       "  </tbody>\n",
       "</table>\n",
       "</div>"
      ],
      "text/plain": [
       "                                 Id           PackageName  Priority  \\\n",
       "10928875  key.1437644@1541624736895  com.android.systemui        -2   \n",
       "10928876  key.1437644@1541769638374  com.android.systemui        -2   \n",
       "10928877  key.1437645@1541523629135   com.android.vending        -1   \n",
       "10928878  key.1437645@1541696878386   com.android.vending        -1   \n",
       "10928879  key.1437646@1541608219788            wp.wattpad         0   \n",
       "\n",
       "                 UUID Category  \n",
       "10928875  device.3952   SYSTEM  \n",
       "10928876  device.3952   SYSTEM  \n",
       "10928877  device.3952   SYSTEM  \n",
       "10928878  device.3952   SYSTEM  \n",
       "10928879  device.3952    MEDIA  "
      ]
     },
     "execution_count": 11,
     "metadata": {},
     "output_type": "execute_result"
    }
   ],
   "source": [
    "priority['Category'] = priority.PackageName.apply(lambda x: category_mapping[x] if x in category_mapping else 'UNKNOWN')\n",
    "priority.tail()"
   ]
  },
  {
   "cell_type": "markdown",
   "metadata": {},
   "source": [
    "## Normalize"
   ]
  },
  {
   "cell_type": "code",
   "execution_count": 12,
   "metadata": {},
   "outputs": [
    {
     "data": {
      "text/html": [
       "<div>\n",
       "<style scoped>\n",
       "    .dataframe tbody tr th:only-of-type {\n",
       "        vertical-align: middle;\n",
       "    }\n",
       "\n",
       "    .dataframe tbody tr th {\n",
       "        vertical-align: top;\n",
       "    }\n",
       "\n",
       "    .dataframe thead th {\n",
       "        text-align: right;\n",
       "    }\n",
       "</style>\n",
       "<table border=\"1\" class=\"dataframe\">\n",
       "  <thead>\n",
       "    <tr style=\"text-align: right;\">\n",
       "      <th></th>\n",
       "      <th>UUID</th>\n",
       "      <th>Category</th>\n",
       "      <th>Id</th>\n",
       "      <th>PackageName</th>\n",
       "      <th>Priority</th>\n",
       "    </tr>\n",
       "  </thead>\n",
       "  <tbody>\n",
       "    <tr>\n",
       "      <th>40620</th>\n",
       "      <td>device.3952</td>\n",
       "      <td>PHONE</td>\n",
       "      <td>[key.1437635@1540931735258, key.1437635@154099...</td>\n",
       "      <td>[com.android.incallui, com.android.incallui, c...</td>\n",
       "      <td>[2, 2, 2, 2, 2, 2, 2, 2, 2, 2, 2, 2, 2, 2, 2, ...</td>\n",
       "    </tr>\n",
       "    <tr>\n",
       "      <th>40621</th>\n",
       "      <td>device.3952</td>\n",
       "      <td>SMS/IM</td>\n",
       "      <td>[key.1437629@1540812622930, key.1437629@154081...</td>\n",
       "      <td>[com.android.mms, com.android.mms, com.android...</td>\n",
       "      <td>[0, 0, 0, 0, 0, 0, 0, 0, 0, 0, 0, 0, 0, 0, 0, ...</td>\n",
       "    </tr>\n",
       "    <tr>\n",
       "      <th>40622</th>\n",
       "      <td>device.3952</td>\n",
       "      <td>SYSTEM</td>\n",
       "      <td>[key.1437632@1540826017717, key.1437632@154082...</td>\n",
       "      <td>[com.android.systemui, com.android.systemui, c...</td>\n",
       "      <td>[2, 2, 2, 2, 2, 2, 2, 2, 2, 2, 2, 2, 2, 2, 2, ...</td>\n",
       "    </tr>\n",
       "    <tr>\n",
       "      <th>40623</th>\n",
       "      <td>device.3952</td>\n",
       "      <td>TOOL</td>\n",
       "      <td>[key.1437639@1541081877577]</td>\n",
       "      <td>[com.ttech.android.onlineislem]</td>\n",
       "      <td>[1]</td>\n",
       "    </tr>\n",
       "    <tr>\n",
       "      <th>40624</th>\n",
       "      <td>device.3952</td>\n",
       "      <td>UNKNOWN</td>\n",
       "      <td>[key.1437631@1540814415624, key.1437631@154133...</td>\n",
       "      <td>[package.6783, package.6783, package.6783, pac...</td>\n",
       "      <td>[0, 0, 0, 1, 0, 0, 0]</td>\n",
       "    </tr>\n",
       "  </tbody>\n",
       "</table>\n",
       "</div>"
      ],
      "text/plain": [
       "              UUID Category  \\\n",
       "40620  device.3952    PHONE   \n",
       "40621  device.3952   SMS/IM   \n",
       "40622  device.3952   SYSTEM   \n",
       "40623  device.3952     TOOL   \n",
       "40624  device.3952  UNKNOWN   \n",
       "\n",
       "                                                      Id  \\\n",
       "40620  [key.1437635@1540931735258, key.1437635@154099...   \n",
       "40621  [key.1437629@1540812622930, key.1437629@154081...   \n",
       "40622  [key.1437632@1540826017717, key.1437632@154082...   \n",
       "40623                        [key.1437639@1541081877577]   \n",
       "40624  [key.1437631@1540814415624, key.1437631@154133...   \n",
       "\n",
       "                                             PackageName  \\\n",
       "40620  [com.android.incallui, com.android.incallui, c...   \n",
       "40621  [com.android.mms, com.android.mms, com.android...   \n",
       "40622  [com.android.systemui, com.android.systemui, c...   \n",
       "40623                    [com.ttech.android.onlineislem]   \n",
       "40624  [package.6783, package.6783, package.6783, pac...   \n",
       "\n",
       "                                                Priority  \n",
       "40620  [2, 2, 2, 2, 2, 2, 2, 2, 2, 2, 2, 2, 2, 2, 2, ...  \n",
       "40621  [0, 0, 0, 0, 0, 0, 0, 0, 0, 0, 0, 0, 0, 0, 0, ...  \n",
       "40622  [2, 2, 2, 2, 2, 2, 2, 2, 2, 2, 2, 2, 2, 2, 2, ...  \n",
       "40623                                                [1]  \n",
       "40624                              [0, 0, 0, 1, 0, 0, 0]  "
      ]
     },
     "execution_count": 12,
     "metadata": {},
     "output_type": "execute_result"
    }
   ],
   "source": [
    "pnorm = priority.groupby(['UUID', 'Category'], as_index=False).agg(list)\n",
    "pnorm.tail()"
   ]
  },
  {
   "cell_type": "code",
   "execution_count": 13,
   "metadata": {},
   "outputs": [
    {
     "data": {
      "text/html": [
       "<div>\n",
       "<style scoped>\n",
       "    .dataframe tbody tr th:only-of-type {\n",
       "        vertical-align: middle;\n",
       "    }\n",
       "\n",
       "    .dataframe tbody tr th {\n",
       "        vertical-align: top;\n",
       "    }\n",
       "\n",
       "    .dataframe thead th {\n",
       "        text-align: right;\n",
       "    }\n",
       "</style>\n",
       "<table border=\"1\" class=\"dataframe\">\n",
       "  <thead>\n",
       "    <tr style=\"text-align: right;\">\n",
       "      <th></th>\n",
       "      <th>UUID</th>\n",
       "      <th>Category</th>\n",
       "      <th>Id</th>\n",
       "      <th>PackageName</th>\n",
       "      <th>Priority</th>\n",
       "      <th>Min Priority</th>\n",
       "      <th>Low Priority</th>\n",
       "      <th>Default Priority</th>\n",
       "      <th>High Priority</th>\n",
       "      <th>Max Priority</th>\n",
       "    </tr>\n",
       "  </thead>\n",
       "  <tbody>\n",
       "    <tr>\n",
       "      <th>40620</th>\n",
       "      <td>device.3952</td>\n",
       "      <td>PHONE</td>\n",
       "      <td>[key.1437635@1540931735258, key.1437635@154099...</td>\n",
       "      <td>[com.android.incallui, com.android.incallui, c...</td>\n",
       "      <td>[2, 2, 2, 2, 2, 2, 2, 2, 2, 2, 2, 2, 2, 2, 2, ...</td>\n",
       "      <td>0.000000</td>\n",
       "      <td>0.000000</td>\n",
       "      <td>0.250000</td>\n",
       "      <td>0.000000</td>\n",
       "      <td>0.750000</td>\n",
       "    </tr>\n",
       "    <tr>\n",
       "      <th>40621</th>\n",
       "      <td>device.3952</td>\n",
       "      <td>SMS/IM</td>\n",
       "      <td>[key.1437629@1540812622930, key.1437629@154081...</td>\n",
       "      <td>[com.android.mms, com.android.mms, com.android...</td>\n",
       "      <td>[0, 0, 0, 0, 0, 0, 0, 0, 0, 0, 0, 0, 0, 0, 0, ...</td>\n",
       "      <td>0.000000</td>\n",
       "      <td>0.000000</td>\n",
       "      <td>1.000000</td>\n",
       "      <td>0.000000</td>\n",
       "      <td>0.000000</td>\n",
       "    </tr>\n",
       "    <tr>\n",
       "      <th>40622</th>\n",
       "      <td>device.3952</td>\n",
       "      <td>SYSTEM</td>\n",
       "      <td>[key.1437632@1540826017717, key.1437632@154082...</td>\n",
       "      <td>[com.android.systemui, com.android.systemui, c...</td>\n",
       "      <td>[2, 2, 2, 2, 2, 2, 2, 2, 2, 2, 2, 2, 2, 2, 2, ...</td>\n",
       "      <td>0.255319</td>\n",
       "      <td>0.042553</td>\n",
       "      <td>0.361702</td>\n",
       "      <td>0.021277</td>\n",
       "      <td>0.319149</td>\n",
       "    </tr>\n",
       "    <tr>\n",
       "      <th>40623</th>\n",
       "      <td>device.3952</td>\n",
       "      <td>TOOL</td>\n",
       "      <td>[key.1437639@1541081877577]</td>\n",
       "      <td>[com.ttech.android.onlineislem]</td>\n",
       "      <td>[1]</td>\n",
       "      <td>0.000000</td>\n",
       "      <td>0.000000</td>\n",
       "      <td>0.000000</td>\n",
       "      <td>1.000000</td>\n",
       "      <td>0.000000</td>\n",
       "    </tr>\n",
       "    <tr>\n",
       "      <th>40624</th>\n",
       "      <td>device.3952</td>\n",
       "      <td>UNKNOWN</td>\n",
       "      <td>[key.1437631@1540814415624, key.1437631@154133...</td>\n",
       "      <td>[package.6783, package.6783, package.6783, pac...</td>\n",
       "      <td>[0, 0, 0, 1, 0, 0, 0]</td>\n",
       "      <td>0.000000</td>\n",
       "      <td>0.000000</td>\n",
       "      <td>0.857143</td>\n",
       "      <td>0.142857</td>\n",
       "      <td>0.000000</td>\n",
       "    </tr>\n",
       "  </tbody>\n",
       "</table>\n",
       "</div>"
      ],
      "text/plain": [
       "              UUID Category  \\\n",
       "40620  device.3952    PHONE   \n",
       "40621  device.3952   SMS/IM   \n",
       "40622  device.3952   SYSTEM   \n",
       "40623  device.3952     TOOL   \n",
       "40624  device.3952  UNKNOWN   \n",
       "\n",
       "                                                      Id  \\\n",
       "40620  [key.1437635@1540931735258, key.1437635@154099...   \n",
       "40621  [key.1437629@1540812622930, key.1437629@154081...   \n",
       "40622  [key.1437632@1540826017717, key.1437632@154082...   \n",
       "40623                        [key.1437639@1541081877577]   \n",
       "40624  [key.1437631@1540814415624, key.1437631@154133...   \n",
       "\n",
       "                                             PackageName  \\\n",
       "40620  [com.android.incallui, com.android.incallui, c...   \n",
       "40621  [com.android.mms, com.android.mms, com.android...   \n",
       "40622  [com.android.systemui, com.android.systemui, c...   \n",
       "40623                    [com.ttech.android.onlineislem]   \n",
       "40624  [package.6783, package.6783, package.6783, pac...   \n",
       "\n",
       "                                                Priority  Min Priority  \\\n",
       "40620  [2, 2, 2, 2, 2, 2, 2, 2, 2, 2, 2, 2, 2, 2, 2, ...      0.000000   \n",
       "40621  [0, 0, 0, 0, 0, 0, 0, 0, 0, 0, 0, 0, 0, 0, 0, ...      0.000000   \n",
       "40622  [2, 2, 2, 2, 2, 2, 2, 2, 2, 2, 2, 2, 2, 2, 2, ...      0.255319   \n",
       "40623                                                [1]      0.000000   \n",
       "40624                              [0, 0, 0, 1, 0, 0, 0]      0.000000   \n",
       "\n",
       "       Low Priority  Default Priority  High Priority  Max Priority  \n",
       "40620      0.000000          0.250000       0.000000      0.750000  \n",
       "40621      0.000000          1.000000       0.000000      0.000000  \n",
       "40622      0.042553          0.361702       0.021277      0.319149  \n",
       "40623      0.000000          0.000000       1.000000      0.000000  \n",
       "40624      0.000000          0.857143       0.142857      0.000000  "
      ]
     },
     "execution_count": 13,
     "metadata": {},
     "output_type": "execute_result"
    }
   ],
   "source": [
    "pnorm['Min Priority']     = pnorm.Priority.apply(lambda x: x.count(-2) / len(x))\n",
    "pnorm['Low Priority']     = pnorm.Priority.apply(lambda x: x.count(-1) / len(x))\n",
    "pnorm['Default Priority'] = pnorm.Priority.apply(lambda x: x.count(0)  / len(x))\n",
    "pnorm['High Priority']    = pnorm.Priority.apply(lambda x: x.count(1)  / len(x))\n",
    "pnorm['Max Priority']     = pnorm.Priority.apply(lambda x: x.count(2)  / len(x))\n",
    "pnorm.tail()"
   ]
  },
  {
   "cell_type": "markdown",
   "metadata": {},
   "source": [
    "## Plot"
   ]
  },
  {
   "cell_type": "code",
   "execution_count": 14,
   "metadata": {},
   "outputs": [],
   "source": [
    "pnorm.Category = pnorm.Category.apply(str.title)\n",
    "pnorm.Category = pnorm.Category.replace({\n",
    "    'Shopping': 'Shopping & Fin.',\n",
    "    'Calendar/Reminder': 'Cal. & Rem.',\n",
    "    'Health/Fitness': 'Health & Fit.',\n",
    "    'Sms/Im': 'SmS & IM', # Lowercase \"m\" to fix the sorting\n",
    "    'Unknown': 'Uncategorized',\n",
    "    'Social': 'Social & Dating',\n",
    "    'News': 'News & Weather'\n",
    "})"
   ]
  },
  {
   "cell_type": "code",
   "execution_count": 15,
   "metadata": {},
   "outputs": [
    {
     "data": {
      "image/png": "[encoded data removed]",
      "text/plain": [
       "<Figure size 432x216 with 1 Axes>"
      ]
     },
     "metadata": {
      "needs_background": "light"
     },
     "output_type": "display_data"
    }
   ],
   "source": [
    "ax = pnorm.groupby('Category').mean().plot(\n",
    "    kind='bar',\n",
    "    stacked=True,\n",
    "    grid=False,\n",
    "    ylim=(0, 1),\n",
    "    color=['#097054', '#00bfbf', '#6599ff', '#ffdf00', '#ff9900'],\n",
    "    edgecolor='#000000',\n",
    "    figsize=(6, 3)\n",
    ")\n",
    "\n",
    "# Dirty hack to fix the sorting\n",
    "labels = [item.get_text() for item in ax.get_xticklabels()]\n",
    "labels[9] = 'SMS & IM'\n",
    "ax.set_xticklabels(labels)\n",
    "\n",
    "# Ticks\n",
    "ax.set_yticks(np.arange(0, 1.1, 0.2))\n",
    "ax.set_yticks(np.arange(0, 1.0, 0.1), minor=True)\n",
    "\n",
    "# Tweak font sizes\n",
    "ax.set_xlabel('', fontsize=10)\n",
    "ax.set_ylabel('Percentage', fontsize=10)\n",
    "ax.tick_params(labelsize=10)\n",
    "\n",
    "# Legend\n",
    "handles, labels = ax.get_legend_handles_labels()\n",
    "ax.legend(handles=reversed(handles),\n",
    "          labels=reversed(labels),\n",
    "          loc='center',\n",
    "          bbox_to_anchor=(0.5, 1.15),\n",
    "          ncol=3, \n",
    "          prop={'size': 10})\n",
    "\n",
    "# Rotate labels\n",
    "plt.setp(ax.get_xticklabels(), rotation=45, ha='right', rotation_mode='anchor')\n",
    "\n",
    "plt.savefig('figures/priorities.png', bbox_inches='tight', pad_inches=0, dpi=300)\n",
    "plt.savefig('figures/priorities.pdf', bbox_inches='tight', pad_inches=0)\n",
    "\n",
    "plt.show()"
   ]
  },
  {
   "cell_type": "code",
   "execution_count": null,
   "metadata": {},
   "outputs": [],
   "source": []
  },
  {
   "cell_type": "code",
   "execution_count": null,
   "metadata": {},
   "outputs": [],
   "source": []
  },
  {
   "cell_type": "code",
   "execution_count": null,
   "metadata": {},
   "outputs": [],
   "source": []
  }
 ],
 "metadata": {
  "kernelspec": {
   "display_name": "Python 3",
   "language": "python",
   "name": "python3"
  },
  "language_info": {
   "codemirror_mode": {
    "name": "ipython",
    "version": 3
   },
   "file_extension": ".py",
   "mimetype": "text/x-python",
   "name": "python",
   "nbconvert_exporter": "python",
   "pygments_lexer": "ipython3",
   "version": "3.6.7"
  }
 },
 "nbformat": 4,
 "nbformat_minor": 2
}
