{
 "cells": [
  {
   "cell_type": "code",
   "execution_count": 1,
   "metadata": {},
   "outputs": [],
   "source": [
    "import pandas as pd\n",
    "import numpy as np\n",
    "import matplotlib.pyplot as plt\n",
    "import matplotlib.patches as patches\n",
    "import matplotlib.lines as mlines\n",
    "import os\n",
    "import itertools\n",
    "\n",
    "from multiprocessing import Pool"
   ]
  },
  {
   "cell_type": "code",
   "execution_count": 2,
   "metadata": {},
   "outputs": [],
   "source": [
    "%run config.py\n",
    "%run shared.py"
   ]
  },
  {
   "cell_type": "code",
   "execution_count": 3,
   "metadata": {},
   "outputs": [],
   "source": [
    "valid = pd.read_pickle(PATH_VALID_DEVICES)"
   ]
  },
  {
   "cell_type": "markdown",
   "metadata": {},
   "source": [
    "# Notification age"
   ]
  },
  {
   "cell_type": "markdown",
   "metadata": {},
   "source": [
    "**RQ:** How old are the notifications in the notification drawer?"
   ]
  },
  {
   "cell_type": "code",
   "execution_count": 4,
   "metadata": {},
   "outputs": [],
   "source": [
    "def get_notification_age(lst, t):\n",
    "    result = []\n",
    "    for n in lst:\n",
    "        age = t - n['postTime']\n",
    "        age = max(age, 0)\n",
    "        age = min(age, 1000*60*60*24*31) # 31 days\n",
    "        \n",
    "        result.append({\n",
    "            'Key': n['key'],\n",
    "            'PackageName': n['packageName'],\n",
    "            'SnapshotTime': t,\n",
    "            'PostTime': n['postTime'],\n",
    "            'Age': age\n",
    "        })\n",
    "    return result\n",
    "\n",
    "def worker_age(uuid):\n",
    "    df = pd.read_pickle('%s%s.pkl.gz' % (PATH_DEVICES_DIR, uuid), compression='gzip')\n",
    "    \n",
    "    result = df.apply(lambda x: get_notification_age(x['Active'], x['Time']), axis=1).tolist()\n",
    "    result = pd.DataFrame(list(itertools.chain(*result)))\n",
    "    \n",
    "    result['Age'] = pd.to_timedelta(result.Age, unit='ms')\n",
    "    result['AgeSeconds'] = result.Age.dt.total_seconds()\n",
    "    result['UUID'] = uuid\n",
    "    \n",
    "    return result"
   ]
  },
  {
   "cell_type": "code",
   "execution_count": 5,
   "metadata": {},
   "outputs": [
    {
     "data": {
      "text/html": [
       "<div>\n",
       "<style scoped>\n",
       "    .dataframe tbody tr th:only-of-type {\n",
       "        vertical-align: middle;\n",
       "    }\n",
       "\n",
       "    .dataframe tbody tr th {\n",
       "        vertical-align: top;\n",
       "    }\n",
       "\n",
       "    .dataframe thead th {\n",
       "        text-align: right;\n",
       "    }\n",
       "</style>\n",
       "<table border=\"1\" class=\"dataframe\">\n",
       "  <thead>\n",
       "    <tr style=\"text-align: right;\">\n",
       "      <th></th>\n",
       "      <th>Age</th>\n",
       "      <th>Key</th>\n",
       "      <th>PackageName</th>\n",
       "      <th>PostTime</th>\n",
       "      <th>SnapshotTime</th>\n",
       "      <th>AgeSeconds</th>\n",
       "      <th>UUID</th>\n",
       "    </tr>\n",
       "  </thead>\n",
       "  <tbody>\n",
       "    <tr>\n",
       "      <th>40836335</th>\n",
       "      <td>00:00:05.661000</td>\n",
       "      <td>key.1437629</td>\n",
       "      <td>com.android.mms</td>\n",
       "      <td>1541774173380</td>\n",
       "      <td>1541774179041</td>\n",
       "      <td>5.661</td>\n",
       "      <td>device.3952</td>\n",
       "    </tr>\n",
       "    <tr>\n",
       "      <th>40836336</th>\n",
       "      <td>00:00:05.300000</td>\n",
       "      <td>key.1437637</td>\n",
       "      <td>android</td>\n",
       "      <td>1541774173741</td>\n",
       "      <td>1541774179041</td>\n",
       "      <td>5.300</td>\n",
       "      <td>device.3952</td>\n",
       "    </tr>\n",
       "    <tr>\n",
       "      <th>40836337</th>\n",
       "      <td>00:00:00.126000</td>\n",
       "      <td>key.1437632</td>\n",
       "      <td>com.android.systemui</td>\n",
       "      <td>1541788627043</td>\n",
       "      <td>1541788627169</td>\n",
       "      <td>0.126</td>\n",
       "      <td>device.3952</td>\n",
       "    </tr>\n",
       "    <tr>\n",
       "      <th>40836338</th>\n",
       "      <td>00:14:53.820000</td>\n",
       "      <td>key.1437640</td>\n",
       "      <td>com.android.server.telecom</td>\n",
       "      <td>1541789046931</td>\n",
       "      <td>1541789940751</td>\n",
       "      <td>893.820</td>\n",
       "      <td>device.3952</td>\n",
       "    </tr>\n",
       "    <tr>\n",
       "      <th>40836339</th>\n",
       "      <td>00:14:28.930000</td>\n",
       "      <td>key.1437629</td>\n",
       "      <td>com.android.mms</td>\n",
       "      <td>1541789071821</td>\n",
       "      <td>1541789940751</td>\n",
       "      <td>868.930</td>\n",
       "      <td>device.3952</td>\n",
       "    </tr>\n",
       "  </tbody>\n",
       "</table>\n",
       "</div>"
      ],
      "text/plain": [
       "                     Age          Key                 PackageName  \\\n",
       "40836335 00:00:05.661000  key.1437629             com.android.mms   \n",
       "40836336 00:00:05.300000  key.1437637                     android   \n",
       "40836337 00:00:00.126000  key.1437632        com.android.systemui   \n",
       "40836338 00:14:53.820000  key.1437640  com.android.server.telecom   \n",
       "40836339 00:14:28.930000  key.1437629             com.android.mms   \n",
       "\n",
       "               PostTime   SnapshotTime  AgeSeconds         UUID  \n",
       "40836335  1541774173380  1541774179041       5.661  device.3952  \n",
       "40836336  1541774173741  1541774179041       5.300  device.3952  \n",
       "40836337  1541788627043  1541788627169       0.126  device.3952  \n",
       "40836338  1541789046931  1541789940751     893.820  device.3952  \n",
       "40836339  1541789071821  1541789940751     868.930  device.3952  "
      ]
     },
     "execution_count": 5,
     "metadata": {},
     "output_type": "execute_result"
    }
   ],
   "source": [
    "uuids = valid.UUID.tolist()\n",
    "\n",
    "p = Pool(NUM_CORES)\n",
    "lst = p.map(worker_age, uuids)\n",
    "\n",
    "age = pd.concat(lst)\n",
    "age = age.reset_index(drop=True)\n",
    "age.tail()"
   ]
  },
  {
   "cell_type": "code",
   "execution_count": 6,
   "metadata": {},
   "outputs": [
    {
     "data": {
      "text/plain": [
       "3953"
      ]
     },
     "execution_count": 6,
     "metadata": {},
     "output_type": "execute_result"
    }
   ],
   "source": [
    "len(age.UUID.unique())"
   ]
  },
  {
   "cell_type": "code",
   "execution_count": 7,
   "metadata": {},
   "outputs": [
    {
     "data": {
      "text/plain": [
       "40836340"
      ]
     },
     "execution_count": 7,
     "metadata": {},
     "output_type": "execute_result"
    }
   ],
   "source": [
    "len(age)"
   ]
  },
  {
   "cell_type": "markdown",
   "metadata": {},
   "source": [
    "## Stats"
   ]
  },
  {
   "cell_type": "code",
   "execution_count": 8,
   "metadata": {},
   "outputs": [
    {
     "data": {
      "text/html": [
       "<div>\n",
       "<style scoped>\n",
       "    .dataframe tbody tr th:only-of-type {\n",
       "        vertical-align: middle;\n",
       "    }\n",
       "\n",
       "    .dataframe tbody tr th {\n",
       "        vertical-align: top;\n",
       "    }\n",
       "\n",
       "    .dataframe thead th {\n",
       "        text-align: right;\n",
       "    }\n",
       "</style>\n",
       "<table border=\"1\" class=\"dataframe\">\n",
       "  <thead>\n",
       "    <tr style=\"text-align: right;\">\n",
       "      <th></th>\n",
       "      <th>Age</th>\n",
       "      <th>PostTime</th>\n",
       "      <th>SnapshotTime</th>\n",
       "      <th>AgeSeconds</th>\n",
       "    </tr>\n",
       "  </thead>\n",
       "  <tbody>\n",
       "    <tr>\n",
       "      <th>count</th>\n",
       "      <td>40836340</td>\n",
       "      <td>4.083634e+07</td>\n",
       "      <td>4.083634e+07</td>\n",
       "      <td>4.083634e+07</td>\n",
       "    </tr>\n",
       "    <tr>\n",
       "      <th>mean</th>\n",
       "      <td>0 days 09:45:41.895442</td>\n",
       "      <td>1.543141e+12</td>\n",
       "      <td>1.543184e+12</td>\n",
       "      <td>3.514190e+04</td>\n",
       "    </tr>\n",
       "    <tr>\n",
       "      <th>std</th>\n",
       "      <td>1 days 10:08:06.050922</td>\n",
       "      <td>3.168722e+09</td>\n",
       "      <td>2.396121e+09</td>\n",
       "      <td>1.228861e+05</td>\n",
       "    </tr>\n",
       "    <tr>\n",
       "      <th>min</th>\n",
       "      <td>0 days 00:00:00</td>\n",
       "      <td>4.819900e+04</td>\n",
       "      <td>1.537169e+12</td>\n",
       "      <td>0.000000e+00</td>\n",
       "    </tr>\n",
       "    <tr>\n",
       "      <th>25%</th>\n",
       "      <td>0 days 00:14:44.746000</td>\n",
       "      <td>1.541274e+12</td>\n",
       "      <td>1.541306e+12</td>\n",
       "      <td>8.847460e+02</td>\n",
       "    </tr>\n",
       "    <tr>\n",
       "      <th>50%</th>\n",
       "      <td>0 days 01:17:58.022000</td>\n",
       "      <td>1.543184e+12</td>\n",
       "      <td>1.543223e+12</td>\n",
       "      <td>4.678022e+03</td>\n",
       "    </tr>\n",
       "    <tr>\n",
       "      <th>75%</th>\n",
       "      <td>0 days 05:46:22.710250</td>\n",
       "      <td>1.545342e+12</td>\n",
       "      <td>1.545384e+12</td>\n",
       "      <td>2.078271e+04</td>\n",
       "    </tr>\n",
       "    <tr>\n",
       "      <th>max</th>\n",
       "      <td>31 days 00:00:00</td>\n",
       "      <td>1.577720e+12</td>\n",
       "      <td>1.546879e+12</td>\n",
       "      <td>2.678400e+06</td>\n",
       "    </tr>\n",
       "  </tbody>\n",
       "</table>\n",
       "</div>"
      ],
      "text/plain": [
       "                          Age      PostTime  SnapshotTime    AgeSeconds\n",
       "count                40836340  4.083634e+07  4.083634e+07  4.083634e+07\n",
       "mean   0 days 09:45:41.895442  1.543141e+12  1.543184e+12  3.514190e+04\n",
       "std    1 days 10:08:06.050922  3.168722e+09  2.396121e+09  1.228861e+05\n",
       "min           0 days 00:00:00  4.819900e+04  1.537169e+12  0.000000e+00\n",
       "25%    0 days 00:14:44.746000  1.541274e+12  1.541306e+12  8.847460e+02\n",
       "50%    0 days 01:17:58.022000  1.543184e+12  1.543223e+12  4.678022e+03\n",
       "75%    0 days 05:46:22.710250  1.545342e+12  1.545384e+12  2.078271e+04\n",
       "max          31 days 00:00:00  1.577720e+12  1.546879e+12  2.678400e+06"
      ]
     },
     "execution_count": 8,
     "metadata": {},
     "output_type": "execute_result"
    }
   ],
   "source": [
    "age.describe()"
   ]
  },
  {
   "cell_type": "code",
   "execution_count": 9,
   "metadata": {},
   "outputs": [
    {
     "data": {
      "text/plain": [
       "<matplotlib.axes._subplots.AxesSubplot at 0x7fc67ba84ba8>"
      ]
     },
     "execution_count": 9,
     "metadata": {},
     "output_type": "execute_result"
    },
    {
     "data": {
      "image/png": "[encoded data removed]",
      "text/plain": [
       "<Figure size 432x288 with 1 Axes>"
      ]
     },
     "metadata": {
      "needs_background": "light"
     },
     "output_type": "display_data"
    }
   ],
   "source": [
    "age.AgeSeconds.hist()"
   ]
  },
  {
   "cell_type": "markdown",
   "metadata": {},
   "source": [
    "## Outliers"
   ]
  },
  {
   "cell_type": "code",
   "execution_count": 10,
   "metadata": {},
   "outputs": [
    {
     "data": {
      "text/plain": [
       "23925"
      ]
     },
     "execution_count": 10,
     "metadata": {},
     "output_type": "execute_result"
    }
   ],
   "source": [
    "len(age[age.Age == pd.Timedelta('0 days')])"
   ]
  },
  {
   "cell_type": "code",
   "execution_count": 11,
   "metadata": {
    "scrolled": false
   },
   "outputs": [
    {
     "data": {
      "text/plain": [
       "0"
      ]
     },
     "execution_count": 11,
     "metadata": {},
     "output_type": "execute_result"
    }
   ],
   "source": [
    "len(age[age.Age > pd.Timedelta('180 days')])"
   ]
  },
  {
   "cell_type": "code",
   "execution_count": 12,
   "metadata": {},
   "outputs": [
    {
     "data": {
      "text/plain": [
       "154520.62934999986"
      ]
     },
     "execution_count": 12,
     "metadata": {},
     "output_type": "execute_result"
    }
   ],
   "source": [
    "age.AgeSeconds.quantile(.95)"
   ]
  },
  {
   "cell_type": "markdown",
   "metadata": {},
   "source": [
    "## Categories"
   ]
  },
  {
   "cell_type": "code",
   "execution_count": 13,
   "metadata": {},
   "outputs": [
    {
     "data": {
      "text/html": [
       "<div>\n",
       "<style scoped>\n",
       "    .dataframe tbody tr th:only-of-type {\n",
       "        vertical-align: middle;\n",
       "    }\n",
       "\n",
       "    .dataframe tbody tr th {\n",
       "        vertical-align: top;\n",
       "    }\n",
       "\n",
       "    .dataframe thead th {\n",
       "        text-align: right;\n",
       "    }\n",
       "</style>\n",
       "<table border=\"1\" class=\"dataframe\">\n",
       "  <thead>\n",
       "    <tr style=\"text-align: right;\">\n",
       "      <th></th>\n",
       "      <th>Age</th>\n",
       "      <th>Key</th>\n",
       "      <th>PackageName</th>\n",
       "      <th>PostTime</th>\n",
       "      <th>SnapshotTime</th>\n",
       "      <th>AgeSeconds</th>\n",
       "      <th>UUID</th>\n",
       "      <th>Category</th>\n",
       "    </tr>\n",
       "  </thead>\n",
       "  <tbody>\n",
       "    <tr>\n",
       "      <th>40836335</th>\n",
       "      <td>00:00:05.661000</td>\n",
       "      <td>key.1437629</td>\n",
       "      <td>com.android.mms</td>\n",
       "      <td>1541774173380</td>\n",
       "      <td>1541774179041</td>\n",
       "      <td>5.661</td>\n",
       "      <td>device.3952</td>\n",
       "      <td>SMS/IM</td>\n",
       "    </tr>\n",
       "    <tr>\n",
       "      <th>40836336</th>\n",
       "      <td>00:00:05.300000</td>\n",
       "      <td>key.1437637</td>\n",
       "      <td>android</td>\n",
       "      <td>1541774173741</td>\n",
       "      <td>1541774179041</td>\n",
       "      <td>5.300</td>\n",
       "      <td>device.3952</td>\n",
       "      <td>SYSTEM</td>\n",
       "    </tr>\n",
       "    <tr>\n",
       "      <th>40836337</th>\n",
       "      <td>00:00:00.126000</td>\n",
       "      <td>key.1437632</td>\n",
       "      <td>com.android.systemui</td>\n",
       "      <td>1541788627043</td>\n",
       "      <td>1541788627169</td>\n",
       "      <td>0.126</td>\n",
       "      <td>device.3952</td>\n",
       "      <td>SYSTEM</td>\n",
       "    </tr>\n",
       "    <tr>\n",
       "      <th>40836338</th>\n",
       "      <td>00:14:53.820000</td>\n",
       "      <td>key.1437640</td>\n",
       "      <td>com.android.server.telecom</td>\n",
       "      <td>1541789046931</td>\n",
       "      <td>1541789940751</td>\n",
       "      <td>893.820</td>\n",
       "      <td>device.3952</td>\n",
       "      <td>PHONE</td>\n",
       "    </tr>\n",
       "    <tr>\n",
       "      <th>40836339</th>\n",
       "      <td>00:14:28.930000</td>\n",
       "      <td>key.1437629</td>\n",
       "      <td>com.android.mms</td>\n",
       "      <td>1541789071821</td>\n",
       "      <td>1541789940751</td>\n",
       "      <td>868.930</td>\n",
       "      <td>device.3952</td>\n",
       "      <td>SMS/IM</td>\n",
       "    </tr>\n",
       "  </tbody>\n",
       "</table>\n",
       "</div>"
      ],
      "text/plain": [
       "                     Age          Key                 PackageName  \\\n",
       "40836335 00:00:05.661000  key.1437629             com.android.mms   \n",
       "40836336 00:00:05.300000  key.1437637                     android   \n",
       "40836337 00:00:00.126000  key.1437632        com.android.systemui   \n",
       "40836338 00:14:53.820000  key.1437640  com.android.server.telecom   \n",
       "40836339 00:14:28.930000  key.1437629             com.android.mms   \n",
       "\n",
       "               PostTime   SnapshotTime  AgeSeconds         UUID Category  \n",
       "40836335  1541774173380  1541774179041       5.661  device.3952   SMS/IM  \n",
       "40836336  1541774173741  1541774179041       5.300  device.3952   SYSTEM  \n",
       "40836337  1541788627043  1541788627169       0.126  device.3952   SYSTEM  \n",
       "40836338  1541789046931  1541789940751     893.820  device.3952    PHONE  \n",
       "40836339  1541789071821  1541789940751     868.930  device.3952   SMS/IM  "
      ]
     },
     "execution_count": 13,
     "metadata": {},
     "output_type": "execute_result"
    }
   ],
   "source": [
    "age['Category'] = age.PackageName.apply(lambda x: category_mapping[x] if x in category_mapping else 'UNKNOWN')\n",
    "age.tail()"
   ]
  },
  {
   "cell_type": "code",
   "execution_count": 14,
   "metadata": {},
   "outputs": [
    {
     "data": {
      "text/html": [
       "<div>\n",
       "<style scoped>\n",
       "    .dataframe tbody tr th:only-of-type {\n",
       "        vertical-align: middle;\n",
       "    }\n",
       "\n",
       "    .dataframe tbody tr th {\n",
       "        vertical-align: top;\n",
       "    }\n",
       "\n",
       "    .dataframe thead th {\n",
       "        text-align: right;\n",
       "    }\n",
       "</style>\n",
       "<table border=\"1\" class=\"dataframe\">\n",
       "  <thead>\n",
       "    <tr style=\"text-align: right;\">\n",
       "      <th></th>\n",
       "      <th>UUID</th>\n",
       "      <th>Category</th>\n",
       "      <th>AgeSeconds</th>\n",
       "    </tr>\n",
       "  </thead>\n",
       "  <tbody>\n",
       "    <tr>\n",
       "      <th>40836335</th>\n",
       "      <td>device.3952</td>\n",
       "      <td>SMS/IM</td>\n",
       "      <td>5.661</td>\n",
       "    </tr>\n",
       "    <tr>\n",
       "      <th>40836336</th>\n",
       "      <td>device.3952</td>\n",
       "      <td>SYSTEM</td>\n",
       "      <td>5.300</td>\n",
       "    </tr>\n",
       "    <tr>\n",
       "      <th>40836337</th>\n",
       "      <td>device.3952</td>\n",
       "      <td>SYSTEM</td>\n",
       "      <td>0.126</td>\n",
       "    </tr>\n",
       "    <tr>\n",
       "      <th>40836338</th>\n",
       "      <td>device.3952</td>\n",
       "      <td>PHONE</td>\n",
       "      <td>893.820</td>\n",
       "    </tr>\n",
       "    <tr>\n",
       "      <th>40836339</th>\n",
       "      <td>device.3952</td>\n",
       "      <td>SMS/IM</td>\n",
       "      <td>868.930</td>\n",
       "    </tr>\n",
       "  </tbody>\n",
       "</table>\n",
       "</div>"
      ],
      "text/plain": [
       "                 UUID Category  AgeSeconds\n",
       "40836335  device.3952   SMS/IM       5.661\n",
       "40836336  device.3952   SYSTEM       5.300\n",
       "40836337  device.3952   SYSTEM       0.126\n",
       "40836338  device.3952    PHONE     893.820\n",
       "40836339  device.3952   SMS/IM     868.930"
      ]
     },
     "execution_count": 14,
     "metadata": {},
     "output_type": "execute_result"
    }
   ],
   "source": [
    "age2 = age[['UUID', 'Category', 'AgeSeconds']].copy()\n",
    "age2.tail()"
   ]
  },
  {
   "cell_type": "code",
   "execution_count": 15,
   "metadata": {},
   "outputs": [
    {
     "data": {
      "text/html": [
       "<div>\n",
       "<style scoped>\n",
       "    .dataframe tbody tr th:only-of-type {\n",
       "        vertical-align: middle;\n",
       "    }\n",
       "\n",
       "    .dataframe tbody tr th {\n",
       "        vertical-align: top;\n",
       "    }\n",
       "\n",
       "    .dataframe thead th {\n",
       "        text-align: right;\n",
       "    }\n",
       "</style>\n",
       "<table border=\"1\" class=\"dataframe\">\n",
       "  <thead>\n",
       "    <tr style=\"text-align: right;\">\n",
       "      <th></th>\n",
       "      <th>Category</th>\n",
       "      <th>AgeSeconds</th>\n",
       "    </tr>\n",
       "  </thead>\n",
       "  <tbody>\n",
       "    <tr>\n",
       "      <th>40620</th>\n",
       "      <td>PHONE</td>\n",
       "      <td>734.5025</td>\n",
       "    </tr>\n",
       "    <tr>\n",
       "      <th>40621</th>\n",
       "      <td>SMS/IM</td>\n",
       "      <td>1753.0390</td>\n",
       "    </tr>\n",
       "    <tr>\n",
       "      <th>40622</th>\n",
       "      <td>SYSTEM</td>\n",
       "      <td>13272.4225</td>\n",
       "    </tr>\n",
       "    <tr>\n",
       "      <th>40623</th>\n",
       "      <td>TOOL</td>\n",
       "      <td>1014.9860</td>\n",
       "    </tr>\n",
       "    <tr>\n",
       "      <th>40624</th>\n",
       "      <td>UNKNOWN</td>\n",
       "      <td>1197.0350</td>\n",
       "    </tr>\n",
       "  </tbody>\n",
       "</table>\n",
       "</div>"
      ],
      "text/plain": [
       "      Category  AgeSeconds\n",
       "40620    PHONE    734.5025\n",
       "40621   SMS/IM   1753.0390\n",
       "40622   SYSTEM  13272.4225\n",
       "40623     TOOL   1014.9860\n",
       "40624  UNKNOWN   1197.0350"
      ]
     },
     "execution_count": 15,
     "metadata": {},
     "output_type": "execute_result"
    }
   ],
   "source": [
    "age2 = age2.groupby(['UUID', 'Category'], as_index=False).median()\n",
    "del age2['UUID']\n",
    "\n",
    "age2.tail()"
   ]
  },
  {
   "cell_type": "code",
   "execution_count": 16,
   "metadata": {},
   "outputs": [
    {
     "data": {
      "text/html": [
       "<div>\n",
       "<style scoped>\n",
       "    .dataframe tbody tr th:only-of-type {\n",
       "        vertical-align: middle;\n",
       "    }\n",
       "\n",
       "    .dataframe tbody tr th {\n",
       "        vertical-align: top;\n",
       "    }\n",
       "\n",
       "    .dataframe thead th {\n",
       "        text-align: right;\n",
       "    }\n",
       "</style>\n",
       "<table border=\"1\" class=\"dataframe\">\n",
       "  <thead>\n",
       "    <tr style=\"text-align: right;\">\n",
       "      <th></th>\n",
       "      <th>Category</th>\n",
       "      <th>CALENDAR/REMINDER</th>\n",
       "      <th>EMAIL</th>\n",
       "      <th>GAME</th>\n",
       "      <th>HEALTH/FITNESS</th>\n",
       "      <th>MEDIA</th>\n",
       "      <th>NAVIGATION</th>\n",
       "      <th>NEWS</th>\n",
       "      <th>PHONE</th>\n",
       "      <th>SHOPPING</th>\n",
       "      <th>SMS/IM</th>\n",
       "      <th>SOCIAL</th>\n",
       "      <th>SYSTEM</th>\n",
       "      <th>TOOL</th>\n",
       "      <th>UNKNOWN</th>\n",
       "    </tr>\n",
       "  </thead>\n",
       "  <tbody>\n",
       "    <tr>\n",
       "      <th rowspan=\"8\" valign=\"top\">AgeSeconds</th>\n",
       "      <th>count</th>\n",
       "      <td>3052.000000</td>\n",
       "      <td>2523.000000</td>\n",
       "      <td>1967.000000</td>\n",
       "      <td>784.000000</td>\n",
       "      <td>3710.000000</td>\n",
       "      <td>2512.000000</td>\n",
       "      <td>1733.000000</td>\n",
       "      <td>3857.000000</td>\n",
       "      <td>2025.000000</td>\n",
       "      <td>3930.000000</td>\n",
       "      <td>3552.000000</td>\n",
       "      <td>3.953000e+03</td>\n",
       "      <td>3.814000e+03</td>\n",
       "      <td>3.213000e+03</td>\n",
       "    </tr>\n",
       "    <tr>\n",
       "      <th>mean</th>\n",
       "      <td>3031.329836</td>\n",
       "      <td>4697.855919</td>\n",
       "      <td>5367.550739</td>\n",
       "      <td>5228.797951</td>\n",
       "      <td>5469.714729</td>\n",
       "      <td>3422.660741</td>\n",
       "      <td>4970.461455</td>\n",
       "      <td>3827.719835</td>\n",
       "      <td>5341.710222</td>\n",
       "      <td>2205.855727</td>\n",
       "      <td>5428.226929</td>\n",
       "      <td>9.443123e+03</td>\n",
       "      <td>9.642447e+03</td>\n",
       "      <td>1.119088e+04</td>\n",
       "    </tr>\n",
       "    <tr>\n",
       "      <th>std</th>\n",
       "      <td>25145.025312</td>\n",
       "      <td>8862.743137</td>\n",
       "      <td>11608.508460</td>\n",
       "      <td>12090.948545</td>\n",
       "      <td>16681.231703</td>\n",
       "      <td>13432.892570</td>\n",
       "      <td>11383.772006</td>\n",
       "      <td>23139.700371</td>\n",
       "      <td>18773.003820</td>\n",
       "      <td>4705.884096</td>\n",
       "      <td>11211.118681</td>\n",
       "      <td>5.024519e+04</td>\n",
       "      <td>5.353784e+04</td>\n",
       "      <td>5.054251e+04</td>\n",
       "    </tr>\n",
       "    <tr>\n",
       "      <th>min</th>\n",
       "      <td>0.031000</td>\n",
       "      <td>0.212000</td>\n",
       "      <td>0.000000</td>\n",
       "      <td>0.154000</td>\n",
       "      <td>0.129000</td>\n",
       "      <td>0.000000</td>\n",
       "      <td>0.000000</td>\n",
       "      <td>0.000000</td>\n",
       "      <td>0.067000</td>\n",
       "      <td>0.179000</td>\n",
       "      <td>0.019000</td>\n",
       "      <td>1.210000e-01</td>\n",
       "      <td>0.000000e+00</td>\n",
       "      <td>0.000000e+00</td>\n",
       "    </tr>\n",
       "    <tr>\n",
       "      <th>25%</th>\n",
       "      <td>54.068375</td>\n",
       "      <td>1132.525750</td>\n",
       "      <td>1106.088500</td>\n",
       "      <td>1093.557000</td>\n",
       "      <td>231.215875</td>\n",
       "      <td>583.274250</td>\n",
       "      <td>901.805000</td>\n",
       "      <td>39.356000</td>\n",
       "      <td>871.485000</td>\n",
       "      <td>659.674625</td>\n",
       "      <td>1266.260625</td>\n",
       "      <td>7.963670e+02</td>\n",
       "      <td>1.063172e+03</td>\n",
       "      <td>8.377970e+02</td>\n",
       "    </tr>\n",
       "    <tr>\n",
       "      <th>50%</th>\n",
       "      <td>622.366750</td>\n",
       "      <td>2473.118500</td>\n",
       "      <td>2697.606500</td>\n",
       "      <td>2378.687500</td>\n",
       "      <td>1266.123250</td>\n",
       "      <td>960.980250</td>\n",
       "      <td>1893.802500</td>\n",
       "      <td>345.363000</td>\n",
       "      <td>2116.733000</td>\n",
       "      <td>1202.889250</td>\n",
       "      <td>2887.490500</td>\n",
       "      <td>2.782459e+03</td>\n",
       "      <td>1.993542e+03</td>\n",
       "      <td>2.562249e+03</td>\n",
       "    </tr>\n",
       "    <tr>\n",
       "      <th>75%</th>\n",
       "      <td>1731.361500</td>\n",
       "      <td>5087.043250</td>\n",
       "      <td>6021.752750</td>\n",
       "      <td>5006.702750</td>\n",
       "      <td>4195.075250</td>\n",
       "      <td>1869.139375</td>\n",
       "      <td>4902.265500</td>\n",
       "      <td>1473.962000</td>\n",
       "      <td>4763.145000</td>\n",
       "      <td>2293.414750</td>\n",
       "      <td>5466.432250</td>\n",
       "      <td>6.898933e+03</td>\n",
       "      <td>5.812530e+03</td>\n",
       "      <td>7.215944e+03</td>\n",
       "    </tr>\n",
       "    <tr>\n",
       "      <th>max</th>\n",
       "      <td>920432.663000</td>\n",
       "      <td>167149.717500</td>\n",
       "      <td>198319.305500</td>\n",
       "      <td>169017.856000</td>\n",
       "      <td>344637.836500</td>\n",
       "      <td>374638.332000</td>\n",
       "      <td>190277.217000</td>\n",
       "      <td>698332.207000</td>\n",
       "      <td>662709.446000</td>\n",
       "      <td>173964.882500</td>\n",
       "      <td>213116.977000</td>\n",
       "      <td>2.364291e+06</td>\n",
       "      <td>2.110900e+06</td>\n",
       "      <td>1.892665e+06</td>\n",
       "    </tr>\n",
       "  </tbody>\n",
       "</table>\n",
       "</div>"
      ],
      "text/plain": [
       "Category          CALENDAR/REMINDER          EMAIL           GAME  \\\n",
       "AgeSeconds count        3052.000000    2523.000000    1967.000000   \n",
       "           mean         3031.329836    4697.855919    5367.550739   \n",
       "           std         25145.025312    8862.743137   11608.508460   \n",
       "           min             0.031000       0.212000       0.000000   \n",
       "           25%            54.068375    1132.525750    1106.088500   \n",
       "           50%           622.366750    2473.118500    2697.606500   \n",
       "           75%          1731.361500    5087.043250    6021.752750   \n",
       "           max        920432.663000  167149.717500  198319.305500   \n",
       "\n",
       "Category          HEALTH/FITNESS          MEDIA     NAVIGATION           NEWS  \\\n",
       "AgeSeconds count      784.000000    3710.000000    2512.000000    1733.000000   \n",
       "           mean      5228.797951    5469.714729    3422.660741    4970.461455   \n",
       "           std      12090.948545   16681.231703   13432.892570   11383.772006   \n",
       "           min          0.154000       0.129000       0.000000       0.000000   \n",
       "           25%       1093.557000     231.215875     583.274250     901.805000   \n",
       "           50%       2378.687500    1266.123250     960.980250    1893.802500   \n",
       "           75%       5006.702750    4195.075250    1869.139375    4902.265500   \n",
       "           max     169017.856000  344637.836500  374638.332000  190277.217000   \n",
       "\n",
       "Category                  PHONE       SHOPPING         SMS/IM         SOCIAL  \\\n",
       "AgeSeconds count    3857.000000    2025.000000    3930.000000    3552.000000   \n",
       "           mean     3827.719835    5341.710222    2205.855727    5428.226929   \n",
       "           std     23139.700371   18773.003820    4705.884096   11211.118681   \n",
       "           min         0.000000       0.067000       0.179000       0.019000   \n",
       "           25%        39.356000     871.485000     659.674625    1266.260625   \n",
       "           50%       345.363000    2116.733000    1202.889250    2887.490500   \n",
       "           75%      1473.962000    4763.145000    2293.414750    5466.432250   \n",
       "           max    698332.207000  662709.446000  173964.882500  213116.977000   \n",
       "\n",
       "Category                SYSTEM          TOOL       UNKNOWN  \n",
       "AgeSeconds count  3.953000e+03  3.814000e+03  3.213000e+03  \n",
       "           mean   9.443123e+03  9.642447e+03  1.119088e+04  \n",
       "           std    5.024519e+04  5.353784e+04  5.054251e+04  \n",
       "           min    1.210000e-01  0.000000e+00  0.000000e+00  \n",
       "           25%    7.963670e+02  1.063172e+03  8.377970e+02  \n",
       "           50%    2.782459e+03  1.993542e+03  2.562249e+03  \n",
       "           75%    6.898933e+03  5.812530e+03  7.215944e+03  \n",
       "           max    2.364291e+06  2.110900e+06  1.892665e+06  "
      ]
     },
     "execution_count": 16,
     "metadata": {},
     "output_type": "execute_result"
    }
   ],
   "source": [
    "age2.groupby('Category').describe().T"
   ]
  },
  {
   "cell_type": "markdown",
   "metadata": {},
   "source": [
    "## Plot"
   ]
  },
  {
   "cell_type": "code",
   "execution_count": 17,
   "metadata": {},
   "outputs": [],
   "source": [
    "# Rename specific categories\n",
    "age2.Category = age2.Category.apply(str.title)\n",
    "age2.Category = age2.Category.replace({\n",
    "    'Shopping': 'Shopping &\\nFinance',\n",
    "    'Calendar/Reminder': 'Calendar &\\nReminder',\n",
    "    'Health/Fitness': 'Health &\\nFitness',\n",
    "    'Sms/Im': 'SmS & IM', # Lowercase \"m\" to fix the sorting\n",
    "    'Unknown': 'Uncategorized',\n",
    "    'Social': 'Social &\\nDating',\n",
    "    'None': 'No notification\\nshown',\n",
    "    'News': 'News &\\nWeather'\n",
    "})"
   ]
  },
  {
   "cell_type": "code",
   "execution_count": 18,
   "metadata": {},
   "outputs": [],
   "source": [
    "age2.AgeSeconds = age2.AgeSeconds.apply(lambda x: x / (60*60))"
   ]
  },
  {
   "cell_type": "code",
   "execution_count": 19,
   "metadata": {},
   "outputs": [
    {
     "data": {
      "image/png": "[encoded data removed]",
      "text/plain": [
       "<Figure size 864x216 with 1 Axes>"
      ]
     },
     "metadata": {
      "needs_background": "light"
     },
     "output_type": "display_data"
    }
   ],
   "source": [
    "ax = age2.boxplot(\n",
    "    by='Category',\n",
    "    showfliers=False,\n",
    "    showmeans=True,\n",
    "    figsize=(12, 3),\n",
    ")\n",
    "\n",
    "# Dirty hack to fix the sorting\n",
    "labels = [item.get_text() for item in ax.get_xticklabels()]\n",
    "labels[9] = 'SMS & IM'\n",
    "ax.set_xticklabels(labels)\n",
    "\n",
    "# Ticks\n",
    "ax.set_yticks(np.arange(0, 5.1, 1.0))\n",
    "ax.set_yticks(np.arange(0, 5, 0.5), minor=True)\n",
    "\n",
    "# Grid\n",
    "ax.set_axisbelow(True)\n",
    "ax.xaxis.grid(alpha=0.0, linestyle='dashed')\n",
    "ax.yaxis.grid(alpha=0.2, linestyle='dashed')\n",
    "\n",
    "# Tweak font sizes\n",
    "ax.set_xlabel('', fontsize=10)\n",
    "ax.set_ylabel('Notification Age (Hours)', fontsize=10)\n",
    "ax.tick_params(labelsize=10)\n",
    "\n",
    "# Legend\n",
    "handles, labels = ax.get_legend_handles_labels()\n",
    "ax.legend(handles=[\n",
    "    mlines.Line2D([], [], color='#34a333', marker='^', linestyle='None'),\n",
    "    mlines.Line2D([], [], color='#34a333', linewidth=1)\n",
    "], labels=[\n",
    "    'Mean',\n",
    "    'Median'\n",
    "], loc='upper left', ncol=2, prop={'size': 10})\n",
    "\n",
    "# Rotate labels\n",
    "plt.setp(ax.get_xticklabels(), rotation=45, ha='right', rotation_mode='anchor')\n",
    "\n",
    "# Remove automatic title\n",
    "plt.title('')\n",
    "plt.suptitle('')\n",
    "\n",
    "plt.savefig('figures/category_ages.png', bbox_inches='tight', pad_inches=0, dpi=300)\n",
    "plt.savefig('figures/category_ages.pdf', bbox_inches='tight', pad_inches=0)\n",
    "\n",
    "plt.show()"
   ]
  },
  {
   "cell_type": "code",
   "execution_count": null,
   "metadata": {},
   "outputs": [],
   "source": []
  },
  {
   "cell_type": "code",
   "execution_count": null,
   "metadata": {},
   "outputs": [],
   "source": []
  },
  {
   "cell_type": "code",
   "execution_count": null,
   "metadata": {},
   "outputs": [],
   "source": []
  }
 ],
 "metadata": {
  "kernelspec": {
   "display_name": "Python 3",
   "language": "python",
   "name": "python3"
  },
  "language_info": {
   "codemirror_mode": {
    "name": "ipython",
    "version": 3
   },
   "file_extension": ".py",
   "mimetype": "text/x-python",
   "name": "python",
   "nbconvert_exporter": "python",
   "pygments_lexer": "ipython3",
   "version": "3.6.7"
  }
 },
 "nbformat": 4,
 "nbformat_minor": 2
}
